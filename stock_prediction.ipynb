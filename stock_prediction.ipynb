{
  "nbformat": 4,
  "nbformat_minor": 0,
  "metadata": {
    "colab": {
      "provenance": [],
      "authorship_tag": "ABX9TyNMXQkIMgE8mAjBIyJLSvCG",
      "include_colab_link": true
    },
    "kernelspec": {
      "name": "python3",
      "display_name": "Python 3"
    },
    "language_info": {
      "name": "python"
    }
  },
  "cells": [
    {
      "cell_type": "markdown",
      "metadata": {
        "id": "view-in-github",
        "colab_type": "text"
      },
      "source": [
        "<a href=\"https://colab.research.google.com/github/vbhsharma7/stock_price_prediction/blob/main/stock_prediction.ipynb\" target=\"_parent\"><img src=\"https://colab.research.google.com/assets/colab-badge.svg\" alt=\"Open In Colab\"/></a>"
      ]
    },
    {
      "cell_type": "code",
      "source": [
        "import pandas as pd\n",
        "import yfinance as yf\n",
        "import numpy as np\n",
        "import matplotlib.pyplot as plt\n",
        "import seaborn as sns\n",
        "sns.set_style('whitegrid')\n",
        "import plotly\n",
        "\n",
        "import warnings\n",
        "warnings.filterwarnings('ignore')\n",
        "from sklearn.preprocessing import MinMaxScaler\n",
        "from sklearn.model_selection import train_test_split\n",
        "from sklearn.linear_model import LinearRegression\n",
        "from sklearn.ensemble import RandomForestRegressor\n",
        "from sklearn.svm import SVR\n",
        "from sklearn.metrics import r2_score,mean_absolute_error,mean_squared_error"
      ],
      "metadata": {
        "id": "ca_sc-ASbwyo"
      },
      "execution_count": 1,
      "outputs": []
    },
    {
      "cell_type": "code",
      "source": [
        "start_date = '2020-01-01'\n",
        "end_date = '2023-05-02'\n",
        "ticker = ' ADANIPORTS.NS'\n",
        "\n",
        "df = yf.download(ticker, start=start_date, end=end_date)\n",
        "df.tail(5)"
      ],
      "metadata": {
        "colab": {
          "base_uri": "https://localhost:8080/",
          "height": 255
        },
        "id": "oToWmDPkbNQf",
        "outputId": "2b6a5bb0-14e1-481f-880c-0c168daf9f85"
      },
      "execution_count": 2,
      "outputs": [
        {
          "output_type": "stream",
          "name": "stdout",
          "text": [
            "\r[*********************100%***********************]  1 of 1 completed\n"
          ]
        },
        {
          "output_type": "execute_result",
          "data": {
            "text/plain": [
              "                  Open        High         Low       Close   Adj Close  \\\n",
              "Date                                                                     \n",
              "2023-04-24  665.099976  672.750000  656.000000  671.299988  671.299988   \n",
              "2023-04-25  675.000000  682.500000  668.849976  671.450012  671.450012   \n",
              "2023-04-26  671.000000  671.599976  662.099976  664.700012  664.700012   \n",
              "2023-04-27  667.900024  668.200012  657.200012  659.750000  659.750000   \n",
              "2023-04-28  666.200012  683.000000  662.150024  681.299988  681.299988   \n",
              "\n",
              "             Volume  \n",
              "Date                 \n",
              "2023-04-24  3357178  \n",
              "2023-04-25  4814190  \n",
              "2023-04-26  3373385  \n",
              "2023-04-27  3197568  \n",
              "2023-04-28  6162262  "
            ],
            "text/html": [
              "\n",
              "  <div id=\"df-84568b0a-7840-4b4b-a15b-4134a8d5656d\">\n",
              "    <div class=\"colab-df-container\">\n",
              "      <div>\n",
              "<style scoped>\n",
              "    .dataframe tbody tr th:only-of-type {\n",
              "        vertical-align: middle;\n",
              "    }\n",
              "\n",
              "    .dataframe tbody tr th {\n",
              "        vertical-align: top;\n",
              "    }\n",
              "\n",
              "    .dataframe thead th {\n",
              "        text-align: right;\n",
              "    }\n",
              "</style>\n",
              "<table border=\"1\" class=\"dataframe\">\n",
              "  <thead>\n",
              "    <tr style=\"text-align: right;\">\n",
              "      <th></th>\n",
              "      <th>Open</th>\n",
              "      <th>High</th>\n",
              "      <th>Low</th>\n",
              "      <th>Close</th>\n",
              "      <th>Adj Close</th>\n",
              "      <th>Volume</th>\n",
              "    </tr>\n",
              "    <tr>\n",
              "      <th>Date</th>\n",
              "      <th></th>\n",
              "      <th></th>\n",
              "      <th></th>\n",
              "      <th></th>\n",
              "      <th></th>\n",
              "      <th></th>\n",
              "    </tr>\n",
              "  </thead>\n",
              "  <tbody>\n",
              "    <tr>\n",
              "      <th>2023-04-24</th>\n",
              "      <td>665.099976</td>\n",
              "      <td>672.750000</td>\n",
              "      <td>656.000000</td>\n",
              "      <td>671.299988</td>\n",
              "      <td>671.299988</td>\n",
              "      <td>3357178</td>\n",
              "    </tr>\n",
              "    <tr>\n",
              "      <th>2023-04-25</th>\n",
              "      <td>675.000000</td>\n",
              "      <td>682.500000</td>\n",
              "      <td>668.849976</td>\n",
              "      <td>671.450012</td>\n",
              "      <td>671.450012</td>\n",
              "      <td>4814190</td>\n",
              "    </tr>\n",
              "    <tr>\n",
              "      <th>2023-04-26</th>\n",
              "      <td>671.000000</td>\n",
              "      <td>671.599976</td>\n",
              "      <td>662.099976</td>\n",
              "      <td>664.700012</td>\n",
              "      <td>664.700012</td>\n",
              "      <td>3373385</td>\n",
              "    </tr>\n",
              "    <tr>\n",
              "      <th>2023-04-27</th>\n",
              "      <td>667.900024</td>\n",
              "      <td>668.200012</td>\n",
              "      <td>657.200012</td>\n",
              "      <td>659.750000</td>\n",
              "      <td>659.750000</td>\n",
              "      <td>3197568</td>\n",
              "    </tr>\n",
              "    <tr>\n",
              "      <th>2023-04-28</th>\n",
              "      <td>666.200012</td>\n",
              "      <td>683.000000</td>\n",
              "      <td>662.150024</td>\n",
              "      <td>681.299988</td>\n",
              "      <td>681.299988</td>\n",
              "      <td>6162262</td>\n",
              "    </tr>\n",
              "  </tbody>\n",
              "</table>\n",
              "</div>\n",
              "      <button class=\"colab-df-convert\" onclick=\"convertToInteractive('df-84568b0a-7840-4b4b-a15b-4134a8d5656d')\"\n",
              "              title=\"Convert this dataframe to an interactive table.\"\n",
              "              style=\"display:none;\">\n",
              "        \n",
              "  <svg xmlns=\"http://www.w3.org/2000/svg\" height=\"24px\"viewBox=\"0 0 24 24\"\n",
              "       width=\"24px\">\n",
              "    <path d=\"M0 0h24v24H0V0z\" fill=\"none\"/>\n",
              "    <path d=\"M18.56 5.44l.94 2.06.94-2.06 2.06-.94-2.06-.94-.94-2.06-.94 2.06-2.06.94zm-11 1L8.5 8.5l.94-2.06 2.06-.94-2.06-.94L8.5 2.5l-.94 2.06-2.06.94zm10 10l.94 2.06.94-2.06 2.06-.94-2.06-.94-.94-2.06-.94 2.06-2.06.94z\"/><path d=\"M17.41 7.96l-1.37-1.37c-.4-.4-.92-.59-1.43-.59-.52 0-1.04.2-1.43.59L10.3 9.45l-7.72 7.72c-.78.78-.78 2.05 0 2.83L4 21.41c.39.39.9.59 1.41.59.51 0 1.02-.2 1.41-.59l7.78-7.78 2.81-2.81c.8-.78.8-2.07 0-2.86zM5.41 20L4 18.59l7.72-7.72 1.47 1.35L5.41 20z\"/>\n",
              "  </svg>\n",
              "      </button>\n",
              "      \n",
              "  <style>\n",
              "    .colab-df-container {\n",
              "      display:flex;\n",
              "      flex-wrap:wrap;\n",
              "      gap: 12px;\n",
              "    }\n",
              "\n",
              "    .colab-df-convert {\n",
              "      background-color: #E8F0FE;\n",
              "      border: none;\n",
              "      border-radius: 50%;\n",
              "      cursor: pointer;\n",
              "      display: none;\n",
              "      fill: #1967D2;\n",
              "      height: 32px;\n",
              "      padding: 0 0 0 0;\n",
              "      width: 32px;\n",
              "    }\n",
              "\n",
              "    .colab-df-convert:hover {\n",
              "      background-color: #E2EBFA;\n",
              "      box-shadow: 0px 1px 2px rgba(60, 64, 67, 0.3), 0px 1px 3px 1px rgba(60, 64, 67, 0.15);\n",
              "      fill: #174EA6;\n",
              "    }\n",
              "\n",
              "    [theme=dark] .colab-df-convert {\n",
              "      background-color: #3B4455;\n",
              "      fill: #D2E3FC;\n",
              "    }\n",
              "\n",
              "    [theme=dark] .colab-df-convert:hover {\n",
              "      background-color: #434B5C;\n",
              "      box-shadow: 0px 1px 3px 1px rgba(0, 0, 0, 0.15);\n",
              "      filter: drop-shadow(0px 1px 2px rgba(0, 0, 0, 0.3));\n",
              "      fill: #FFFFFF;\n",
              "    }\n",
              "  </style>\n",
              "\n",
              "      <script>\n",
              "        const buttonEl =\n",
              "          document.querySelector('#df-84568b0a-7840-4b4b-a15b-4134a8d5656d button.colab-df-convert');\n",
              "        buttonEl.style.display =\n",
              "          google.colab.kernel.accessAllowed ? 'block' : 'none';\n",
              "\n",
              "        async function convertToInteractive(key) {\n",
              "          const element = document.querySelector('#df-84568b0a-7840-4b4b-a15b-4134a8d5656d');\n",
              "          const dataTable =\n",
              "            await google.colab.kernel.invokeFunction('convertToInteractive',\n",
              "                                                     [key], {});\n",
              "          if (!dataTable) return;\n",
              "\n",
              "          const docLinkHtml = 'Like what you see? Visit the ' +\n",
              "            '<a target=\"_blank\" href=https://colab.research.google.com/notebooks/data_table.ipynb>data table notebook</a>'\n",
              "            + ' to learn more about interactive tables.';\n",
              "          element.innerHTML = '';\n",
              "          dataTable['output_type'] = 'display_data';\n",
              "          await google.colab.output.renderOutput(dataTable, element);\n",
              "          const docLink = document.createElement('div');\n",
              "          docLink.innerHTML = docLinkHtml;\n",
              "          element.appendChild(docLink);\n",
              "        }\n",
              "      </script>\n",
              "    </div>\n",
              "  </div>\n",
              "  "
            ]
          },
          "metadata": {},
          "execution_count": 2
        }
      ]
    },
    {
      "cell_type": "markdown",
      "source": [
        "\n",
        "**Exploratory Data Analysis**"
      ],
      "metadata": {
        "id": "MOXeSvsocR--"
      }
    },
    {
      "cell_type": "markdown",
      "source": [
        "Mean: The average value of the opening or closing prices. A high mean value suggests that the stock is generally expensive, while a low mean value suggests that it is generally inexpensive.\n",
        "\n",
        "Median: The middle value of the opening or closing prices. It represents the typical value of the stock prices and is less sensitive to outliers than the mean.\n",
        "\n",
        "Standard Deviation: The measure of the spread of the opening or closing prices. A high standard deviation suggests that the stock prices are widely spread out, while a low standard deviation suggests that they are tightly clustered around the mean.\n",
        "\n",
        "Maximum and Minimum values: The highest and lowest values of the opening or closing prices, respectively. These values provide information about the range of the stock prices and whether there have been any drastic changes in the stock price over time."
      ],
      "metadata": {
        "id": "dZxCPF6IcZPy"
      }
    },
    {
      "cell_type": "code",
      "source": [
        "# Average,Median, STd , max  and min of Closing Price\n",
        "print(\"Mean of closing price: \", df['Close'].mean())\n",
        "print(\"Median of closing price: \", df['Close'].median())\n",
        "print(\"Standard deviation of closing price: \", df['Close'].std())\n",
        "print(\"Maximum value Of closing price: \",df['Close'].max())\n",
        "print(\"Mininum value Of closing price: \",df['Close'].min())"
      ],
      "metadata": {
        "colab": {
          "base_uri": "https://localhost:8080/"
        },
        "id": "0_oiO_gQbTzn",
        "outputId": "40f2c77b-b206-4ff8-d8e5-314dabf10d31"
      },
      "execution_count": 3,
      "outputs": [
        {
          "output_type": "stream",
          "name": "stdout",
          "text": [
            "Mean of closing price:  619.2550849452723\n",
            "Median of closing price:  703.3499755859375\n",
            "Standard deviation of closing price:  196.70463889492254\n",
            "Maximum value Of closing price:  970.25\n",
            "Mininum value Of closing price:  207.8000030517578\n"
          ]
        }
      ]
    },
    {
      "cell_type": "code",
      "source": [
        "# Average,Median, STd , max  and min of Open Price \n",
        "print(\"Mean of Opening price: \", df['Open'].mean())\n",
        "print(\"Median of Opening price: \", df['Open'].median())\n",
        "print(\"Standard deviation of Opening price: \", df['Open'].std())\n",
        "print(\"Maximum value Of Opening price: \",df['Open'].max())\n",
        "print(\"Mininum value Of Opening price: \",df['Open'].min())"
      ],
      "metadata": {
        "colab": {
          "base_uri": "https://localhost:8080/"
        },
        "id": "ZKJfgLNvcj_w",
        "outputId": "f8aa1110-e2f4-4f47-dc25-4a92cd47696c"
      },
      "execution_count": 4,
      "outputs": [
        {
          "output_type": "stream",
          "name": "stdout",
          "text": [
            "Mean of Opening price:  620.4981852201227\n",
            "Median of Opening price:  702.4750061035156\n",
            "Standard deviation of Opening price:  197.63787345392362\n",
            "Maximum value Of Opening price:  974.2000122070312\n",
            "Mininum value Of Opening price:  216.0\n"
          ]
        }
      ]
    },
    {
      "cell_type": "code",
      "source": [
        "# Percent Return Of Closing Price\n",
        "returns = df['Close'].pct_change()\n",
        "returns.head()"
      ],
      "metadata": {
        "colab": {
          "base_uri": "https://localhost:8080/"
        },
        "id": "O6_jUGYhcnBN",
        "outputId": "07d23544-292a-45b8-be17-73c881bd90a2"
      },
      "execution_count": 5,
      "outputs": [
        {
          "output_type": "execute_result",
          "data": {
            "text/plain": [
              "Date\n",
              "2020-01-01         NaN\n",
              "2020-01-02    0.014564\n",
              "2020-01-03   -0.001696\n",
              "2020-01-06   -0.006013\n",
              "2020-01-07    0.012099\n",
              "Name: Close, dtype: float64"
            ]
          },
          "metadata": {},
          "execution_count": 5
        }
      ]
    },
    {
      "cell_type": "code",
      "source": [
        "sns.histplot(returns[1:], bins=40,label='Return')\n",
        "plt.xlabel('Return')  \n",
        "plt.ylabel('Density')\n",
        "plt.title('Distribution of Daily Returns')\n",
        "plt.legend()\n",
        "plt.gca().set_xlim(-0.09, 0.09)\n",
        "plt.show()"
      ],
      "metadata": {
        "colab": {
          "base_uri": "https://localhost:8080/",
          "height": 472
        },
        "id": "qAXHq492dhw_",
        "outputId": "43cc8887-17eb-48a2-c98f-7cf316933087"
      },
      "execution_count": 6,
      "outputs": [
        {
          "output_type": "display_data",
          "data": {
            "text/plain": [
              "<Figure size 640x480 with 1 Axes>"
            ],
            "image/png": "[encoded data removed]"
          },
          "metadata": {}
        }
      ]
    },
    {
      "cell_type": "code",
      "source": [
        "# Date With Lowest and Highest Returns\n",
        "print(returns.idxmin())\n",
        "print(returns.idxmax())"
      ],
      "metadata": {
        "colab": {
          "base_uri": "https://localhost:8080/"
        },
        "id": "YJl5gCiydlAP",
        "outputId": "482af4a1-4cce-4173-9852-99c158ce36f3"
      },
      "execution_count": 7,
      "outputs": [
        {
          "output_type": "stream",
          "name": "stdout",
          "text": [
            "2023-02-01 00:00:00\n",
            "2021-04-06 00:00:00\n"
          ]
        }
      ]
    },
    {
      "cell_type": "code",
      "source": [
        "Open_price = df['Open']\n",
        "Open_price.plot(label=\"Stock_name\",figsize=(12,4))\n",
        "plt.legend()"
      ],
      "metadata": {
        "colab": {
          "base_uri": "https://localhost:8080/",
          "height": 397
        },
        "id": "xWX6768ogO49",
        "outputId": "2ed59263-d12f-42ec-e48a-0750996bcf14"
      },
      "execution_count": 8,
      "outputs": [
        {
          "output_type": "execute_result",
          "data": {
            "text/plain": [
              "<matplotlib.legend.Legend at 0x7f6c94685060>"
            ]
          },
          "metadata": {},
          "execution_count": 8
        },
        {
          "output_type": "display_data",
          "data": {
            "text/plain": [
              "<Figure size 1200x400 with 1 Axes>"
            ],
            "image/png": "[encoded data removed]"
          },
          "metadata": {}
        }
      ]
    },
    {
      "cell_type": "code",
      "source": [
        "Closed_price = df['Close']\n",
        "Closed_price.plot(label=\"Stock_name\",figsize=(12,4))\n",
        "plt.legend()\n"
      ],
      "metadata": {
        "colab": {
          "base_uri": "https://localhost:8080/",
          "height": 398
        },
        "id": "vv_Ugw14frk1",
        "outputId": "2cca4baa-0b95-4a32-afeb-fedbb084f122"
      },
      "execution_count": 9,
      "outputs": [
        {
          "output_type": "execute_result",
          "data": {
            "text/plain": [
              "<matplotlib.legend.Legend at 0x7f6ccd7a2800>"
            ]
          },
          "metadata": {},
          "execution_count": 9
        },
        {
          "output_type": "display_data",
          "data": {
            "text/plain": [
              "<Figure size 1200x400 with 1 Axes>"
            ],
            "image/png": "[encoded data removed]"
          },
          "metadata": {}
        }
      ]
    },
    {
      "cell_type": "code",
      "source": [
        "plt.figure(figsize=(12,4))\n",
        "df['Close'].rolling(window=30).mean().plot(label='30 day Moving Average')\n",
        "df['Close'].plot(label='Stock_name')\n",
        "plt.legend()"
      ],
      "metadata": {
        "colab": {
          "base_uri": "https://localhost:8080/",
          "height": 398
        },
        "id": "96rhSbCxfyTO",
        "outputId": "625f1319-3a81-4036-9555-d6e539bbc746"
      },
      "execution_count": 10,
      "outputs": [
        {
          "output_type": "execute_result",
          "data": {
            "text/plain": [
              "<matplotlib.legend.Legend at 0x7f6c923bd210>"
            ]
          },
          "metadata": {},
          "execution_count": 10
        },
        {
          "output_type": "display_data",
          "data": {
            "text/plain": [
              "<Figure size 1200x400 with 1 Axes>"
            ],
            "image/png": "[encoded data removed]"
          },
          "metadata": {}
        }
      ]
    },
    {
      "cell_type": "code",
      "source": [
        "df1=df.reset_index()['Close']\n"
      ],
      "metadata": {
        "id": "yuqyCWXogrNx"
      },
      "execution_count": 11,
      "outputs": []
    },
    {
      "cell_type": "code",
      "source": [
        "scaler=MinMaxScaler(feature_range=(0,1))\n",
        "df1=scaler.fit_transform(np.array(df1).reshape(-1,1))"
      ],
      "metadata": {
        "id": "IGYYJ2f1sD8f"
      },
      "execution_count": 12,
      "outputs": []
    },
    {
      "cell_type": "code",
      "source": [
        "##splitting dataset into train and test split\n",
        "training_size=int(len(df1)*0.65)\n",
        "test_size=len(df1)-training_size\n",
        "train_data,test_data=df1[0:training_size,:],df1[training_size:len(df1),:1]\n"
      ],
      "metadata": {
        "id": "8pqOW1_Tttq2"
      },
      "execution_count": 13,
      "outputs": []
    },
    {
      "cell_type": "code",
      "source": [
        "training_size,test_size"
      ],
      "metadata": {
        "colab": {
          "base_uri": "https://localhost:8080/"
        },
        "id": "9Lm3U_LnvixJ",
        "outputId": "345b7748-b1a7-44da-80f8-edff90541a0f"
      },
      "execution_count": 14,
      "outputs": [
        {
          "output_type": "execute_result",
          "data": {
            "text/plain": [
              "(536, 290)"
            ]
          },
          "metadata": {},
          "execution_count": 14
        }
      ]
    },
    {
      "cell_type": "code",
      "source": [
        "import numpy\n",
        "# convert an array of values into a dataset matrix\n",
        "def create_dataset(dataset, time_step=1):\n",
        "\tdataX, dataY = [], []\n",
        "\tfor i in range(len(dataset)-time_step-1):\n",
        "\t\ta = dataset[i:(i+time_step), 0]   ###i=0, 0,1,2,3-----99   100 \n",
        "\t\tdataX.append(a)\n",
        "\t\tdataY.append(dataset[i + time_step, 0])\n",
        "\treturn numpy.array(dataX), numpy.array(dataY)"
      ],
      "metadata": {
        "id": "8SxB00zKv2Ex"
      },
      "execution_count": 15,
      "outputs": []
    },
    {
      "cell_type": "code",
      "source": [
        "len(train_data)"
      ],
      "metadata": {
        "colab": {
          "base_uri": "https://localhost:8080/"
        },
        "id": "8euDvuQBnjrM",
        "outputId": "7aeb3672-fc67-487e-f35d-da83e7e20c11"
      },
      "execution_count": 16,
      "outputs": [
        {
          "output_type": "execute_result",
          "data": {
            "text/plain": [
              "536"
            ]
          },
          "metadata": {},
          "execution_count": 16
        }
      ]
    },
    {
      "cell_type": "code",
      "source": [
        "# reshape into X=t,t+1,t+2,t+3 and Y=t+4\n",
        "time_step = 100\n",
        "X_train, y_train = create_dataset(train_data, time_step)\n",
        "X_test, ytest = create_dataset(test_data, time_step)"
      ],
      "metadata": {
        "id": "XGrSE2rIx4Tr"
      },
      "execution_count": 17,
      "outputs": []
    },
    {
      "cell_type": "code",
      "source": [
        "print(X_train.shape), print(y_train.shape)"
      ],
      "metadata": {
        "colab": {
          "base_uri": "https://localhost:8080/"
        },
        "id": "KRENk24Qx69z",
        "outputId": "ffb729d0-87dc-4665-9399-bc26e868ee1d"
      },
      "execution_count": 18,
      "outputs": [
        {
          "output_type": "stream",
          "name": "stdout",
          "text": [
            "(435, 100)\n",
            "(435,)\n"
          ]
        },
        {
          "output_type": "execute_result",
          "data": {
            "text/plain": [
              "(None, None)"
            ]
          },
          "metadata": {},
          "execution_count": 18
        }
      ]
    },
    {
      "cell_type": "code",
      "source": [
        "print(X_test.shape), print(ytest.shape)"
      ],
      "metadata": {
        "colab": {
          "base_uri": "https://localhost:8080/"
        },
        "id": "O3U1ZQvPx-Q_",
        "outputId": "56e0de45-4c45-40e0-e4e5-09419083ca25"
      },
      "execution_count": 19,
      "outputs": [
        {
          "output_type": "stream",
          "name": "stdout",
          "text": [
            "(189, 100)\n",
            "(189,)\n"
          ]
        },
        {
          "output_type": "execute_result",
          "data": {
            "text/plain": [
              "(None, None)"
            ]
          },
          "metadata": {},
          "execution_count": 19
        }
      ]
    },
    {
      "cell_type": "code",
      "source": [
        "# reshape input to be [samples, time steps, features] which is required for LSTM\n",
        "X_train =X_train.reshape(X_train.shape[0],X_train.shape[1] , 1)\n",
        "X_test = X_test.reshape(X_test.shape[0],X_test.shape[1] , 1)"
      ],
      "metadata": {
        "id": "WvZup0mRyDfz"
      },
      "execution_count": 20,
      "outputs": []
    },
    {
      "cell_type": "code",
      "source": [
        "### Create the Stacked LSTM model\n",
        "from tensorflow.keras.models import Sequential\n",
        "from tensorflow.keras.layers import Dense\n",
        "from tensorflow.keras.layers import LSTM"
      ],
      "metadata": {
        "id": "wx9Eay4H1alQ"
      },
      "execution_count": 21,
      "outputs": []
    },
    {
      "cell_type": "code",
      "source": [
        "model=Sequential()\n",
        "model.add(LSTM(50,return_sequences=True,input_shape=(100,1)))\n",
        "model.add(LSTM(50,return_sequences=True))\n",
        "model.add(LSTM(50))\n",
        "model.add(Dense(1))\n",
        "model.compile(loss='mean_squared_error',optimizer='adam')"
      ],
      "metadata": {
        "id": "0dvY6K_C1fRx"
      },
      "execution_count": 22,
      "outputs": []
    },
    {
      "cell_type": "code",
      "source": [
        "\n",
        "model.summary()"
      ],
      "metadata": {
        "colab": {
          "base_uri": "https://localhost:8080/"
        },
        "id": "lJvfBOYe1plT",
        "outputId": "0aaccf23-0979-46b7-ebb8-6615af40a3c7"
      },
      "execution_count": 23,
      "outputs": [
        {
          "output_type": "stream",
          "name": "stdout",
          "text": [
            "Model: \"sequential\"\n",
            "_________________________________________________________________\n",
            " Layer (type)                Output Shape              Param #   \n",
            "=================================================================\n",
            " lstm (LSTM)                 (None, 100, 50)           10400     \n",
            "                                                                 \n",
            " lstm_1 (LSTM)               (None, 100, 50)           20200     \n",
            "                                                                 \n",
            " lstm_2 (LSTM)               (None, 50)                20200     \n",
            "                                                                 \n",
            " dense (Dense)               (None, 1)                 51        \n",
            "                                                                 \n",
            "=================================================================\n",
            "Total params: 50,851\n",
            "Trainable params: 50,851\n",
            "Non-trainable params: 0\n",
            "_________________________________________________________________\n"
          ]
        }
      ]
    },
    {
      "cell_type": "code",
      "source": [
        "model.fit(X_train,y_train,validation_data=(X_test,ytest),epochs=100,batch_size=64,verbose=1)"
      ],
      "metadata": {
        "colab": {
          "base_uri": "https://localhost:8080/"
        },
        "id": "EBQeETPy11vG",
        "outputId": "54c64682-44b9-4363-9bd2-690f7cc8a967"
      },
      "execution_count": 24,
      "outputs": [
        {
          "output_type": "stream",
          "name": "stdout",
          "text": [
            "Epoch 1/100\n",
            "7/7 [==============================] - 14s 1s/step - loss: 0.1367 - val_loss: 0.0608\n",
            "Epoch 2/100\n",
            "7/7 [==============================] - 4s 506ms/step - loss: 0.0235 - val_loss: 0.0426\n",
            "Epoch 3/100\n",
            "7/7 [==============================] - 3s 453ms/step - loss: 0.0159 - val_loss: 0.0126\n",
            "Epoch 4/100\n",
            "7/7 [==============================] - 3s 427ms/step - loss: 0.0079 - val_loss: 0.0098\n",
            "Epoch 5/100\n",
            "7/7 [==============================] - 4s 645ms/step - loss: 0.0048 - val_loss: 0.0164\n",
            "Epoch 6/100\n",
            "7/7 [==============================] - 4s 534ms/step - loss: 0.0037 - val_loss: 0.0093\n",
            "Epoch 7/100\n",
            "7/7 [==============================] - 2s 242ms/step - loss: 0.0030 - val_loss: 0.0095\n",
            "Epoch 8/100\n",
            "7/7 [==============================] - 2s 242ms/step - loss: 0.0026 - val_loss: 0.0089\n",
            "Epoch 9/100\n",
            "7/7 [==============================] - 2s 220ms/step - loss: 0.0022 - val_loss: 0.0088\n",
            "Epoch 10/100\n",
            "7/7 [==============================] - 2s 244ms/step - loss: 0.0022 - val_loss: 0.0088\n",
            "Epoch 11/100\n",
            "7/7 [==============================] - 3s 388ms/step - loss: 0.0021 - val_loss: 0.0088\n",
            "Epoch 12/100\n",
            "7/7 [==============================] - 2s 224ms/step - loss: 0.0021 - val_loss: 0.0088\n",
            "Epoch 13/100\n",
            "7/7 [==============================] - 2s 225ms/step - loss: 0.0021 - val_loss: 0.0087\n",
            "Epoch 14/100\n",
            "7/7 [==============================] - 2s 226ms/step - loss: 0.0021 - val_loss: 0.0088\n",
            "Epoch 15/100\n",
            "7/7 [==============================] - 2s 223ms/step - loss: 0.0021 - val_loss: 0.0087\n",
            "Epoch 16/100\n",
            "7/7 [==============================] - 2s 223ms/step - loss: 0.0021 - val_loss: 0.0088\n",
            "Epoch 17/100\n",
            "7/7 [==============================] - 2s 220ms/step - loss: 0.0021 - val_loss: 0.0086\n",
            "Epoch 18/100\n",
            "7/7 [==============================] - 2s 326ms/step - loss: 0.0020 - val_loss: 0.0086\n",
            "Epoch 19/100\n",
            "7/7 [==============================] - 2s 311ms/step - loss: 0.0020 - val_loss: 0.0086\n",
            "Epoch 20/100\n",
            "7/7 [==============================] - 2s 224ms/step - loss: 0.0020 - val_loss: 0.0086\n",
            "Epoch 21/100\n",
            "7/7 [==============================] - 2s 232ms/step - loss: 0.0020 - val_loss: 0.0086\n",
            "Epoch 22/100\n",
            "7/7 [==============================] - 2s 220ms/step - loss: 0.0020 - val_loss: 0.0085\n",
            "Epoch 23/100\n",
            "7/7 [==============================] - 2s 219ms/step - loss: 0.0019 - val_loss: 0.0086\n",
            "Epoch 24/100\n",
            "7/7 [==============================] - 2s 240ms/step - loss: 0.0019 - val_loss: 0.0084\n",
            "Epoch 25/100\n",
            "7/7 [==============================] - 2s 248ms/step - loss: 0.0019 - val_loss: 0.0084\n",
            "Epoch 26/100\n",
            "7/7 [==============================] - 3s 373ms/step - loss: 0.0020 - val_loss: 0.0087\n",
            "Epoch 27/100\n",
            "7/7 [==============================] - 2s 246ms/step - loss: 0.0019 - val_loss: 0.0083\n",
            "Epoch 28/100\n",
            "7/7 [==============================] - 2s 223ms/step - loss: 0.0019 - val_loss: 0.0088\n",
            "Epoch 29/100\n",
            "7/7 [==============================] - 2s 245ms/step - loss: 0.0018 - val_loss: 0.0083\n",
            "Epoch 30/100\n",
            "7/7 [==============================] - 2s 240ms/step - loss: 0.0019 - val_loss: 0.0083\n",
            "Epoch 31/100\n",
            "7/7 [==============================] - 2s 226ms/step - loss: 0.0018 - val_loss: 0.0087\n",
            "Epoch 32/100\n",
            "7/7 [==============================] - 2s 239ms/step - loss: 0.0018 - val_loss: 0.0082\n",
            "Epoch 33/100\n",
            "7/7 [==============================] - 2s 352ms/step - loss: 0.0018 - val_loss: 0.0085\n",
            "Epoch 34/100\n",
            "7/7 [==============================] - 2s 275ms/step - loss: 0.0019 - val_loss: 0.0086\n",
            "Epoch 35/100\n",
            "7/7 [==============================] - 2s 242ms/step - loss: 0.0018 - val_loss: 0.0083\n",
            "Epoch 36/100\n",
            "7/7 [==============================] - 2s 244ms/step - loss: 0.0017 - val_loss: 0.0085\n",
            "Epoch 37/100\n",
            "7/7 [==============================] - 2s 245ms/step - loss: 0.0017 - val_loss: 0.0080\n",
            "Epoch 38/100\n",
            "7/7 [==============================] - 2s 228ms/step - loss: 0.0017 - val_loss: 0.0087\n",
            "Epoch 39/100\n",
            "7/7 [==============================] - 2s 226ms/step - loss: 0.0017 - val_loss: 0.0081\n",
            "Epoch 40/100\n",
            "7/7 [==============================] - 2s 322ms/step - loss: 0.0017 - val_loss: 0.0079\n",
            "Epoch 41/100\n",
            "7/7 [==============================] - 4s 566ms/step - loss: 0.0017 - val_loss: 0.0082\n",
            "Epoch 42/100\n",
            "7/7 [==============================] - 2s 231ms/step - loss: 0.0017 - val_loss: 0.0087\n",
            "Epoch 43/100\n",
            "7/7 [==============================] - 2s 221ms/step - loss: 0.0019 - val_loss: 0.0079\n",
            "Epoch 44/100\n",
            "7/7 [==============================] - 2s 220ms/step - loss: 0.0018 - val_loss: 0.0080\n",
            "Epoch 45/100\n",
            "7/7 [==============================] - 2s 225ms/step - loss: 0.0018 - val_loss: 0.0093\n",
            "Epoch 46/100\n",
            "7/7 [==============================] - 2s 234ms/step - loss: 0.0018 - val_loss: 0.0086\n",
            "Epoch 47/100\n",
            "7/7 [==============================] - 3s 374ms/step - loss: 0.0017 - val_loss: 0.0078\n",
            "Epoch 48/100\n",
            "7/7 [==============================] - 2s 240ms/step - loss: 0.0016 - val_loss: 0.0087\n",
            "Epoch 49/100\n",
            "7/7 [==============================] - 2s 223ms/step - loss: 0.0016 - val_loss: 0.0080\n",
            "Epoch 50/100\n",
            "7/7 [==============================] - 2s 219ms/step - loss: 0.0016 - val_loss: 0.0078\n",
            "Epoch 51/100\n",
            "7/7 [==============================] - 2s 247ms/step - loss: 0.0016 - val_loss: 0.0098\n",
            "Epoch 52/100\n",
            "7/7 [==============================] - 2s 221ms/step - loss: 0.0017 - val_loss: 0.0082\n",
            "Epoch 53/100\n",
            "7/7 [==============================] - 2s 243ms/step - loss: 0.0016 - val_loss: 0.0077\n",
            "Epoch 54/100\n",
            "7/7 [==============================] - 2s 336ms/step - loss: 0.0016 - val_loss: 0.0079\n",
            "Epoch 55/100\n",
            "7/7 [==============================] - 2s 287ms/step - loss: 0.0016 - val_loss: 0.0093\n",
            "Epoch 56/100\n",
            "7/7 [==============================] - 2s 248ms/step - loss: 0.0016 - val_loss: 0.0092\n",
            "Epoch 57/100\n",
            "7/7 [==============================] - 2s 223ms/step - loss: 0.0016 - val_loss: 0.0079\n",
            "Epoch 58/100\n",
            "7/7 [==============================] - 2s 241ms/step - loss: 0.0016 - val_loss: 0.0082\n",
            "Epoch 59/100\n",
            "7/7 [==============================] - 2s 225ms/step - loss: 0.0016 - val_loss: 0.0082\n",
            "Epoch 60/100\n",
            "7/7 [==============================] - 2s 220ms/step - loss: 0.0015 - val_loss: 0.0081\n",
            "Epoch 61/100\n",
            "7/7 [==============================] - 2s 254ms/step - loss: 0.0016 - val_loss: 0.0075\n",
            "Epoch 62/100\n",
            "7/7 [==============================] - 3s 394ms/step - loss: 0.0016 - val_loss: 0.0076\n",
            "Epoch 63/100\n",
            "7/7 [==============================] - 2s 221ms/step - loss: 0.0016 - val_loss: 0.0082\n",
            "Epoch 64/100\n",
            "7/7 [==============================] - 2s 242ms/step - loss: 0.0015 - val_loss: 0.0088\n",
            "Epoch 65/100\n",
            "7/7 [==============================] - 2s 224ms/step - loss: 0.0015 - val_loss: 0.0085\n",
            "Epoch 66/100\n",
            "7/7 [==============================] - 2s 336ms/step - loss: 0.0015 - val_loss: 0.0079\n",
            "Epoch 67/100\n",
            "7/7 [==============================] - 2s 244ms/step - loss: 0.0016 - val_loss: 0.0075\n",
            "Epoch 68/100\n",
            "7/7 [==============================] - 2s 256ms/step - loss: 0.0016 - val_loss: 0.0074\n",
            "Epoch 69/100\n",
            "7/7 [==============================] - 3s 389ms/step - loss: 0.0017 - val_loss: 0.0078\n",
            "Epoch 70/100\n",
            "7/7 [==============================] - 2s 250ms/step - loss: 0.0015 - val_loss: 0.0079\n",
            "Epoch 71/100\n",
            "7/7 [==============================] - 3s 393ms/step - loss: 0.0015 - val_loss: 0.0084\n",
            "Epoch 72/100\n",
            "7/7 [==============================] - 2s 232ms/step - loss: 0.0015 - val_loss: 0.0077\n",
            "Epoch 73/100\n",
            "7/7 [==============================] - 2s 221ms/step - loss: 0.0015 - val_loss: 0.0085\n",
            "Epoch 74/100\n",
            "7/7 [==============================] - 2s 243ms/step - loss: 0.0015 - val_loss: 0.0072\n",
            "Epoch 75/100\n",
            "7/7 [==============================] - 2s 331ms/step - loss: 0.0016 - val_loss: 0.0082\n",
            "Epoch 76/100\n",
            "7/7 [==============================] - 2s 314ms/step - loss: 0.0015 - val_loss: 0.0100\n",
            "Epoch 77/100\n",
            "7/7 [==============================] - 2s 221ms/step - loss: 0.0018 - val_loss: 0.0081\n",
            "Epoch 78/100\n",
            "7/7 [==============================] - 2s 224ms/step - loss: 0.0016 - val_loss: 0.0072\n",
            "Epoch 79/100\n",
            "7/7 [==============================] - 2s 227ms/step - loss: 0.0016 - val_loss: 0.0072\n",
            "Epoch 80/100\n",
            "7/7 [==============================] - 2s 218ms/step - loss: 0.0016 - val_loss: 0.0072\n",
            "Epoch 81/100\n",
            "7/7 [==============================] - 2s 224ms/step - loss: 0.0016 - val_loss: 0.0073\n",
            "Epoch 82/100\n",
            "7/7 [==============================] - 2s 242ms/step - loss: 0.0017 - val_loss: 0.0094\n",
            "Epoch 83/100\n",
            "7/7 [==============================] - 3s 387ms/step - loss: 0.0016 - val_loss: 0.0095\n",
            "Epoch 84/100\n",
            "7/7 [==============================] - 2s 228ms/step - loss: 0.0015 - val_loss: 0.0077\n",
            "Epoch 85/100\n",
            "7/7 [==============================] - 2s 243ms/step - loss: 0.0015 - val_loss: 0.0069\n",
            "Epoch 86/100\n",
            "7/7 [==============================] - 2s 226ms/step - loss: 0.0016 - val_loss: 0.0072\n",
            "Epoch 87/100\n",
            "7/7 [==============================] - 2s 226ms/step - loss: 0.0015 - val_loss: 0.0091\n",
            "Epoch 88/100\n",
            "7/7 [==============================] - 2s 247ms/step - loss: 0.0015 - val_loss: 0.0086\n",
            "Epoch 89/100\n",
            "7/7 [==============================] - 2s 220ms/step - loss: 0.0016 - val_loss: 0.0072\n",
            "Epoch 90/100\n",
            "7/7 [==============================] - 2s 338ms/step - loss: 0.0015 - val_loss: 0.0068\n",
            "Epoch 91/100\n",
            "7/7 [==============================] - 2s 288ms/step - loss: 0.0017 - val_loss: 0.0072\n",
            "Epoch 92/100\n",
            "7/7 [==============================] - 2s 244ms/step - loss: 0.0015 - val_loss: 0.0078\n",
            "Epoch 93/100\n",
            "7/7 [==============================] - 2s 243ms/step - loss: 0.0014 - val_loss: 0.0068\n",
            "Epoch 94/100\n",
            "7/7 [==============================] - 2s 226ms/step - loss: 0.0015 - val_loss: 0.0075\n",
            "Epoch 95/100\n",
            "7/7 [==============================] - 2s 244ms/step - loss: 0.0015 - val_loss: 0.0078\n",
            "Epoch 96/100\n",
            "7/7 [==============================] - 2s 224ms/step - loss: 0.0015 - val_loss: 0.0090\n",
            "Epoch 97/100\n",
            "7/7 [==============================] - 2s 273ms/step - loss: 0.0015 - val_loss: 0.0090\n",
            "Epoch 98/100\n",
            "7/7 [==============================] - 2s 346ms/step - loss: 0.0015 - val_loss: 0.0086\n",
            "Epoch 99/100\n",
            "7/7 [==============================] - 2s 221ms/step - loss: 0.0017 - val_loss: 0.0073\n",
            "Epoch 100/100\n",
            "7/7 [==============================] - 2s 219ms/step - loss: 0.0015 - val_loss: 0.0070\n"
          ]
        },
        {
          "output_type": "execute_result",
          "data": {
            "text/plain": [
              "<keras.callbacks.History at 0x7f6c38c3f9d0>"
            ]
          },
          "metadata": {},
          "execution_count": 24
        }
      ]
    },
    {
      "cell_type": "code",
      "source": [
        "import tensorflow as tf"
      ],
      "metadata": {
        "id": "doLb1FSW2SKo"
      },
      "execution_count": 25,
      "outputs": []
    },
    {
      "cell_type": "code",
      "source": [
        "### Lets Do the prediction and check performance metrics\n",
        "train_predict=model.predict(X_train)\n",
        "test_predict=model.predict(X_test)"
      ],
      "metadata": {
        "colab": {
          "base_uri": "https://localhost:8080/"
        },
        "id": "dAnXSc1QJP6C",
        "outputId": "e7f743c2-fbbc-401e-e6f3-b49e3c5c171d"
      },
      "execution_count": 26,
      "outputs": [
        {
          "output_type": "stream",
          "name": "stdout",
          "text": [
            "14/14 [==============================] - 2s 43ms/step\n",
            "6/6 [==============================] - 0s 43ms/step\n"
          ]
        }
      ]
    },
    {
      "cell_type": "code",
      "source": [
        "##Transformback to original form\n",
        "train_predict=scaler.inverse_transform(train_predict)\n",
        "test_predict=scaler.inverse_transform(test_predict)"
      ],
      "metadata": {
        "id": "2BsqYR5UJlEa"
      },
      "execution_count": 27,
      "outputs": []
    },
    {
      "cell_type": "code",
      "source": [
        "### Calculate RMSE performance metrics\n",
        "import math\n",
        "from sklearn.metrics import mean_squared_error\n",
        "math.sqrt(mean_squared_error(y_train,train_predict))"
      ],
      "metadata": {
        "colab": {
          "base_uri": "https://localhost:8080/"
        },
        "id": "VzVrlbbNKi06",
        "outputId": "de095b7b-240d-4b95-ec9e-babe09c62c23"
      },
      "execution_count": 28,
      "outputs": [
        {
          "output_type": "execute_result",
          "data": {
            "text/plain": [
              "622.7305778538141"
            ]
          },
          "metadata": {},
          "execution_count": 28
        }
      ]
    },
    {
      "cell_type": "code",
      "source": [
        "### Test Data RMSE\n",
        "math.sqrt(mean_squared_error(ytest,test_predict))"
      ],
      "metadata": {
        "colab": {
          "base_uri": "https://localhost:8080/"
        },
        "id": "AYLGwYgkKyqL",
        "outputId": "56499b87-e61f-4888-e30d-be61575764e6"
      },
      "execution_count": 29,
      "outputs": [
        {
          "output_type": "execute_result",
          "data": {
            "text/plain": [
              "760.5164533691977"
            ]
          },
          "metadata": {},
          "execution_count": 29
        }
      ]
    },
    {
      "cell_type": "code",
      "source": [
        "### Plotting \n",
        "# shift train predictions for plotting\n",
        "look_back=100\n",
        "trainPredictPlot = numpy.empty_like(df1)\n",
        "trainPredictPlot[:, :] = np.nan\n",
        "trainPredictPlot[look_back:len(train_predict)+look_back, :] = train_predict\n",
        "# shift test predictions for plotting\n",
        "testPredictPlot = numpy.empty_like(df1)\n",
        "testPredictPlot[:, :] = numpy.nan\n",
        "testPredictPlot[len(train_predict)+(look_back*2)+1:len(df1)-1, :] = test_predict\n",
        "# plot baseline and predictions\n",
        "plt.plot(scaler.inverse_transform(df1))\n",
        "plt.plot(trainPredictPlot)\n",
        "plt.plot(testPredictPlot)\n",
        "plt.show()"
      ],
      "metadata": {
        "id": "UQvsTpS3LC44",
        "colab": {
          "base_uri": "https://localhost:8080/",
          "height": 432
        },
        "outputId": "2cd06d20-cc96-46d7-e062-e032b6fcd78b"
      },
      "execution_count": 30,
      "outputs": [
        {
          "output_type": "display_data",
          "data": {
            "text/plain": [
              "<Figure size 640x480 with 1 Axes>"
            ],
            "image/png": "[encoded data removed]"
          },
          "metadata": {}
        }
      ]
    },
    {
      "cell_type": "code",
      "source": [
        "len(test_predict)"
      ],
      "metadata": {
        "colab": {
          "base_uri": "https://localhost:8080/"
        },
        "id": "NHjZFlacpr3r",
        "outputId": "7369ac0b-52f8-467c-81b7-1a414f6fe286"
      },
      "execution_count": 31,
      "outputs": [
        {
          "output_type": "execute_result",
          "data": {
            "text/plain": [
              "189"
            ]
          },
          "metadata": {},
          "execution_count": 31
        }
      ]
    },
    {
      "cell_type": "code",
      "source": [
        "x_input=test_data[len(test_predict)-100:].reshape(1,-1)\n",
        "x_input.shape"
      ],
      "metadata": {
        "colab": {
          "base_uri": "https://localhost:8080/"
        },
        "id": "-V5PtP6Ip8Sj",
        "outputId": "24ae8f65-aa88-431b-ca81-2a611b4c893f"
      },
      "execution_count": 32,
      "outputs": [
        {
          "output_type": "execute_result",
          "data": {
            "text/plain": [
              "(1, 201)"
            ]
          },
          "metadata": {},
          "execution_count": 32
        }
      ]
    },
    {
      "cell_type": "code",
      "source": [
        "temp_input=list(x_input)\n",
        "temp_input=temp_input[0].tolist()"
      ],
      "metadata": {
        "id": "_36nxNzWqH33"
      },
      "execution_count": 33,
      "outputs": []
    },
    {
      "cell_type": "code",
      "source": [
        "from numpy import array\n",
        "\n",
        "lst_output=[]\n",
        "n_steps=len(x_input[0])\n",
        "i=0\n",
        "while(i<30):\n",
        "    \n",
        "    if(len(temp_input)>100):\n",
        "        # print(temp_input)\n",
        "        x_input=np.array(temp_input[1:])\n",
        "        print(\"{} day input {}\".format(i,x_input))\n",
        "        x_input=x_input.reshape(1,-1)\n",
        "        x_input = x_input.reshape((1, n_steps, 1))\n",
        "        # print(x_input)\n",
        "        yhat = model.predict(x_input, verbose=0)\n",
        "        print(\"{} day output {}\".format(i,yhat))\n",
        "        temp_input.extend(yhat[0].tolist())\n",
        "        temp_input=temp_input[1:]\n",
        "        #print(temp_input)\n",
        "        lst_output.extend(yhat.tolist())\n",
        "        i=i+1\n",
        "    else:\n",
        "        x_input = x_input.reshape((1, n_steps,1))\n",
        "        yhat = model.predict(x_input, verbose=0)\n",
        "        print(yhat[0])\n",
        "        temp_input.extend(yhat[0].tolist())\n",
        "        print(len(temp_input))\n",
        "        lst_output.extend(yhat.tolist())\n",
        "        i=i+1\n",
        "    \n",
        "\n",
        "print(lst_output)"
      ],
      "metadata": {
        "colab": {
          "base_uri": "https://localhost:8080/"
        },
        "id": "f9JSxAudqWmD",
        "outputId": "5cd7c56c-21d3-46bf-921d-f4ffd547975b"
      },
      "execution_count": 51,
      "outputs": [
        {
          "output_type": "stream",
          "name": "stdout",
          "text": [
            "0 day input [0.80693814 0.80831527 0.79887209 0.78733028 0.773231   0.78182179\n",
            " 0.75670536 0.75060656 0.75860714 0.78975672 0.78333004 0.80300346\n",
            " 0.77887078 0.78392026 0.77716568 0.80457735 0.80333135 0.80759392\n",
            " 0.83152992 0.82051285 0.82110299 0.85920391 0.84621942 0.89579643\n",
            " 0.8992721  0.90064922 0.90137057 0.91691262 0.89127153 0.89586199\n",
            " 0.89330451 0.87061443 0.88484492 0.87323756 0.87723788 0.88110693\n",
            " 0.87979536 0.87927079 0.88294314 0.89546854 0.8923864  0.89887865\n",
            " 0.90320678 0.89048462 0.89855076 0.89573087 0.8833366  0.90104267\n",
            " 0.90858415 0.88681227 0.85599057 0.89848511 0.88720572 0.85231822\n",
            " 0.85133455 0.76896842 0.7846416  0.79919998 0.7902813  0.80234768\n",
            " 0.8004459  0.80595447 0.80352812 0.78982228 0.80241324 0.78470716\n",
            " 0.7985442  0.77198508 0.77205064 0.76746018 0.76968985 0.75972193\n",
            " 0.75670536 0.75900059 0.74529476 0.74319629 0.73611383 0.7258181\n",
            " 0.66279759 0.51039414 0.5104597  0.53098567 0.37687716 0.33398913\n",
            " 0.38172996 0.44284873 0.45294776 0.51341071 0.49117973 0.49334384\n",
            " 0.45366911 0.46862086 0.47380154 0.4844908  0.48639258 0.4877697\n",
            " 0.49236017 0.44501275 0.45124267 0.46048924 0.46455505 0.50449211\n",
            " 0.51714863 0.54442917 0.62541809 0.63341858 0.66135483 0.64194373\n",
            " 0.64266508 0.62089319 0.58587448 0.61846675 0.61879464 0.61977831\n",
            " 0.60194111 0.59938355 0.58935015 0.5864647  0.56423372 0.55256079\n",
            " 0.50573811 0.56246314 0.55623323 0.55085578 0.56259427 0.56895531\n",
            " 0.58259558 0.58515314 0.59013706 0.59525218 0.59925242 0.59118629\n",
            " 0.5909896  0.60108856 0.59518654 0.6079087  0.60810546 0.59925242\n",
            " 0.59276018 0.62102431 0.63754129 0.64006025 0.6431123  0.64659679\n",
            " 0.65038598 0.65435749 0.65840948 0.66246283 0.66646045 0.67036194\n",
            " 0.67414117 0.67778105 0.68127126 0.68460584 0.6877827  0.69080025\n",
            " 0.69365925 0.69636124 0.69890845 0.70130354 0.70354956 0.70565021\n",
            " 0.70760983 0.70943236 0.71112281 0.71268559 0.71412635 0.71545005\n",
            " 0.71666199 0.71776801 0.71877319 0.71968311 0.72050351 0.72123951\n",
            " 0.72189659 0.72247958 0.72299421 0.72344488 0.72383648 0.72417378\n",
            " 0.7244609  0.72470254 0.72490215 0.72506398 0.72519135 0.72528768\n",
            " 0.72535628 0.72540033 0.72542214 0.72542483 0.7254104  0.72538143\n",
            " 0.72533995 0.72528756 0.72522616 0.72515744 0.72508281 0.72500336\n",
            " 0.72492051 0.7248351 ]\n",
            "0 day output [[0.7247483]]\n",
            "1 day input [0.80831527 0.79887209 0.78733028 0.773231   0.78182179 0.75670536\n",
            " 0.75060656 0.75860714 0.78975672 0.78333004 0.80300346 0.77887078\n",
            " 0.78392026 0.77716568 0.80457735 0.80333135 0.80759392 0.83152992\n",
            " 0.82051285 0.82110299 0.85920391 0.84621942 0.89579643 0.8992721\n",
            " 0.90064922 0.90137057 0.91691262 0.89127153 0.89586199 0.89330451\n",
            " 0.87061443 0.88484492 0.87323756 0.87723788 0.88110693 0.87979536\n",
            " 0.87927079 0.88294314 0.89546854 0.8923864  0.89887865 0.90320678\n",
            " 0.89048462 0.89855076 0.89573087 0.8833366  0.90104267 0.90858415\n",
            " 0.88681227 0.85599057 0.89848511 0.88720572 0.85231822 0.85133455\n",
            " 0.76896842 0.7846416  0.79919998 0.7902813  0.80234768 0.8004459\n",
            " 0.80595447 0.80352812 0.78982228 0.80241324 0.78470716 0.7985442\n",
            " 0.77198508 0.77205064 0.76746018 0.76968985 0.75972193 0.75670536\n",
            " 0.75900059 0.74529476 0.74319629 0.73611383 0.7258181  0.66279759\n",
            " 0.51039414 0.5104597  0.53098567 0.37687716 0.33398913 0.38172996\n",
            " 0.44284873 0.45294776 0.51341071 0.49117973 0.49334384 0.45366911\n",
            " 0.46862086 0.47380154 0.4844908  0.48639258 0.4877697  0.49236017\n",
            " 0.44501275 0.45124267 0.46048924 0.46455505 0.50449211 0.51714863\n",
            " 0.54442917 0.62541809 0.63341858 0.66135483 0.64194373 0.64266508\n",
            " 0.62089319 0.58587448 0.61846675 0.61879464 0.61977831 0.60194111\n",
            " 0.59938355 0.58935015 0.5864647  0.56423372 0.55256079 0.50573811\n",
            " 0.56246314 0.55623323 0.55085578 0.56259427 0.56895531 0.58259558\n",
            " 0.58515314 0.59013706 0.59525218 0.59925242 0.59118629 0.5909896\n",
            " 0.60108856 0.59518654 0.6079087  0.60810546 0.59925242 0.59276018\n",
            " 0.62102431 0.63754129 0.64006025 0.6431123  0.64659679 0.65038598\n",
            " 0.65435749 0.65840948 0.66246283 0.66646045 0.67036194 0.67414117\n",
            " 0.67778105 0.68127126 0.68460584 0.6877827  0.69080025 0.69365925\n",
            " 0.69636124 0.69890845 0.70130354 0.70354956 0.70565021 0.70760983\n",
            " 0.70943236 0.71112281 0.71268559 0.71412635 0.71545005 0.71666199\n",
            " 0.71776801 0.71877319 0.71968311 0.72050351 0.72123951 0.72189659\n",
            " 0.72247958 0.72299421 0.72344488 0.72383648 0.72417378 0.7244609\n",
            " 0.72470254 0.72490215 0.72506398 0.72519135 0.72528768 0.72535628\n",
            " 0.72540033 0.72542214 0.72542483 0.7254104  0.72538143 0.72533995\n",
            " 0.72528756 0.72522616 0.72515744 0.72508281 0.72500336 0.72492051\n",
            " 0.7248351  0.72474831]\n",
            "1 day output [[0.7246608]]\n",
            "2 day input [0.79887209 0.78733028 0.773231   0.78182179 0.75670536 0.75060656\n",
            " 0.75860714 0.78975672 0.78333004 0.80300346 0.77887078 0.78392026\n",
            " 0.77716568 0.80457735 0.80333135 0.80759392 0.83152992 0.82051285\n",
            " 0.82110299 0.85920391 0.84621942 0.89579643 0.8992721  0.90064922\n",
            " 0.90137057 0.91691262 0.89127153 0.89586199 0.89330451 0.87061443\n",
            " 0.88484492 0.87323756 0.87723788 0.88110693 0.87979536 0.87927079\n",
            " 0.88294314 0.89546854 0.8923864  0.89887865 0.90320678 0.89048462\n",
            " 0.89855076 0.89573087 0.8833366  0.90104267 0.90858415 0.88681227\n",
            " 0.85599057 0.89848511 0.88720572 0.85231822 0.85133455 0.76896842\n",
            " 0.7846416  0.79919998 0.7902813  0.80234768 0.8004459  0.80595447\n",
            " 0.80352812 0.78982228 0.80241324 0.78470716 0.7985442  0.77198508\n",
            " 0.77205064 0.76746018 0.76968985 0.75972193 0.75670536 0.75900059\n",
            " 0.74529476 0.74319629 0.73611383 0.7258181  0.66279759 0.51039414\n",
            " 0.5104597  0.53098567 0.37687716 0.33398913 0.38172996 0.44284873\n",
            " 0.45294776 0.51341071 0.49117973 0.49334384 0.45366911 0.46862086\n",
            " 0.47380154 0.4844908  0.48639258 0.4877697  0.49236017 0.44501275\n",
            " 0.45124267 0.46048924 0.46455505 0.50449211 0.51714863 0.54442917\n",
            " 0.62541809 0.63341858 0.66135483 0.64194373 0.64266508 0.62089319\n",
            " 0.58587448 0.61846675 0.61879464 0.61977831 0.60194111 0.59938355\n",
            " 0.58935015 0.5864647  0.56423372 0.55256079 0.50573811 0.56246314\n",
            " 0.55623323 0.55085578 0.56259427 0.56895531 0.58259558 0.58515314\n",
            " 0.59013706 0.59525218 0.59925242 0.59118629 0.5909896  0.60108856\n",
            " 0.59518654 0.6079087  0.60810546 0.59925242 0.59276018 0.62102431\n",
            " 0.63754129 0.64006025 0.6431123  0.64659679 0.65038598 0.65435749\n",
            " 0.65840948 0.66246283 0.66646045 0.67036194 0.67414117 0.67778105\n",
            " 0.68127126 0.68460584 0.6877827  0.69080025 0.69365925 0.69636124\n",
            " 0.69890845 0.70130354 0.70354956 0.70565021 0.70760983 0.70943236\n",
            " 0.71112281 0.71268559 0.71412635 0.71545005 0.71666199 0.71776801\n",
            " 0.71877319 0.71968311 0.72050351 0.72123951 0.72189659 0.72247958\n",
            " 0.72299421 0.72344488 0.72383648 0.72417378 0.7244609  0.72470254\n",
            " 0.72490215 0.72506398 0.72519135 0.72528768 0.72535628 0.72540033\n",
            " 0.72542214 0.72542483 0.7254104  0.72538143 0.72533995 0.72528756\n",
            " 0.72522616 0.72515744 0.72508281 0.72500336 0.72492051 0.7248351\n",
            " 0.72474831 0.72466081]\n",
            "2 day output [[0.7245733]]\n",
            "3 day input [0.78733028 0.773231   0.78182179 0.75670536 0.75060656 0.75860714\n",
            " 0.78975672 0.78333004 0.80300346 0.77887078 0.78392026 0.77716568\n",
            " 0.80457735 0.80333135 0.80759392 0.83152992 0.82051285 0.82110299\n",
            " 0.85920391 0.84621942 0.89579643 0.8992721  0.90064922 0.90137057\n",
            " 0.91691262 0.89127153 0.89586199 0.89330451 0.87061443 0.88484492\n",
            " 0.87323756 0.87723788 0.88110693 0.87979536 0.87927079 0.88294314\n",
            " 0.89546854 0.8923864  0.89887865 0.90320678 0.89048462 0.89855076\n",
            " 0.89573087 0.8833366  0.90104267 0.90858415 0.88681227 0.85599057\n",
            " 0.89848511 0.88720572 0.85231822 0.85133455 0.76896842 0.7846416\n",
            " 0.79919998 0.7902813  0.80234768 0.8004459  0.80595447 0.80352812\n",
            " 0.78982228 0.80241324 0.78470716 0.7985442  0.77198508 0.77205064\n",
            " 0.76746018 0.76968985 0.75972193 0.75670536 0.75900059 0.74529476\n",
            " 0.74319629 0.73611383 0.7258181  0.66279759 0.51039414 0.5104597\n",
            " 0.53098567 0.37687716 0.33398913 0.38172996 0.44284873 0.45294776\n",
            " 0.51341071 0.49117973 0.49334384 0.45366911 0.46862086 0.47380154\n",
            " 0.4844908  0.48639258 0.4877697  0.49236017 0.44501275 0.45124267\n",
            " 0.46048924 0.46455505 0.50449211 0.51714863 0.54442917 0.62541809\n",
            " 0.63341858 0.66135483 0.64194373 0.64266508 0.62089319 0.58587448\n",
            " 0.61846675 0.61879464 0.61977831 0.60194111 0.59938355 0.58935015\n",
            " 0.5864647  0.56423372 0.55256079 0.50573811 0.56246314 0.55623323\n",
            " 0.55085578 0.56259427 0.56895531 0.58259558 0.58515314 0.59013706\n",
            " 0.59525218 0.59925242 0.59118629 0.5909896  0.60108856 0.59518654\n",
            " 0.6079087  0.60810546 0.59925242 0.59276018 0.62102431 0.63754129\n",
            " 0.64006025 0.6431123  0.64659679 0.65038598 0.65435749 0.65840948\n",
            " 0.66246283 0.66646045 0.67036194 0.67414117 0.67778105 0.68127126\n",
            " 0.68460584 0.6877827  0.69080025 0.69365925 0.69636124 0.69890845\n",
            " 0.70130354 0.70354956 0.70565021 0.70760983 0.70943236 0.71112281\n",
            " 0.71268559 0.71412635 0.71545005 0.71666199 0.71776801 0.71877319\n",
            " 0.71968311 0.72050351 0.72123951 0.72189659 0.72247958 0.72299421\n",
            " 0.72344488 0.72383648 0.72417378 0.7244609  0.72470254 0.72490215\n",
            " 0.72506398 0.72519135 0.72528768 0.72535628 0.72540033 0.72542214\n",
            " 0.72542483 0.7254104  0.72538143 0.72533995 0.72528756 0.72522616\n",
            " 0.72515744 0.72508281 0.72500336 0.72492051 0.7248351  0.72474831\n",
            " 0.72466081 0.72457331]\n",
            "3 day output [[0.7244863]]\n",
            "4 day input [0.773231   0.78182179 0.75670536 0.75060656 0.75860714 0.78975672\n",
            " 0.78333004 0.80300346 0.77887078 0.78392026 0.77716568 0.80457735\n",
            " 0.80333135 0.80759392 0.83152992 0.82051285 0.82110299 0.85920391\n",
            " 0.84621942 0.89579643 0.8992721  0.90064922 0.90137057 0.91691262\n",
            " 0.89127153 0.89586199 0.89330451 0.87061443 0.88484492 0.87323756\n",
            " 0.87723788 0.88110693 0.87979536 0.87927079 0.88294314 0.89546854\n",
            " 0.8923864  0.89887865 0.90320678 0.89048462 0.89855076 0.89573087\n",
            " 0.8833366  0.90104267 0.90858415 0.88681227 0.85599057 0.89848511\n",
            " 0.88720572 0.85231822 0.85133455 0.76896842 0.7846416  0.79919998\n",
            " 0.7902813  0.80234768 0.8004459  0.80595447 0.80352812 0.78982228\n",
            " 0.80241324 0.78470716 0.7985442  0.77198508 0.77205064 0.76746018\n",
            " 0.76968985 0.75972193 0.75670536 0.75900059 0.74529476 0.74319629\n",
            " 0.73611383 0.7258181  0.66279759 0.51039414 0.5104597  0.53098567\n",
            " 0.37687716 0.33398913 0.38172996 0.44284873 0.45294776 0.51341071\n",
            " 0.49117973 0.49334384 0.45366911 0.46862086 0.47380154 0.4844908\n",
            " 0.48639258 0.4877697  0.49236017 0.44501275 0.45124267 0.46048924\n",
            " 0.46455505 0.50449211 0.51714863 0.54442917 0.62541809 0.63341858\n",
            " 0.66135483 0.64194373 0.64266508 0.62089319 0.58587448 0.61846675\n",
            " 0.61879464 0.61977831 0.60194111 0.59938355 0.58935015 0.5864647\n",
            " 0.56423372 0.55256079 0.50573811 0.56246314 0.55623323 0.55085578\n",
            " 0.56259427 0.56895531 0.58259558 0.58515314 0.59013706 0.59525218\n",
            " 0.59925242 0.59118629 0.5909896  0.60108856 0.59518654 0.6079087\n",
            " 0.60810546 0.59925242 0.59276018 0.62102431 0.63754129 0.64006025\n",
            " 0.6431123  0.64659679 0.65038598 0.65435749 0.65840948 0.66246283\n",
            " 0.66646045 0.67036194 0.67414117 0.67778105 0.68127126 0.68460584\n",
            " 0.6877827  0.69080025 0.69365925 0.69636124 0.69890845 0.70130354\n",
            " 0.70354956 0.70565021 0.70760983 0.70943236 0.71112281 0.71268559\n",
            " 0.71412635 0.71545005 0.71666199 0.71776801 0.71877319 0.71968311\n",
            " 0.72050351 0.72123951 0.72189659 0.72247958 0.72299421 0.72344488\n",
            " 0.72383648 0.72417378 0.7244609  0.72470254 0.72490215 0.72506398\n",
            " 0.72519135 0.72528768 0.72535628 0.72540033 0.72542214 0.72542483\n",
            " 0.7254104  0.72538143 0.72533995 0.72528756 0.72522616 0.72515744\n",
            " 0.72508281 0.72500336 0.72492051 0.7248351  0.72474831 0.72466081\n",
            " 0.72457331 0.72448629]\n",
            "4 day output [[0.7244008]]\n",
            "5 day input [0.78182179 0.75670536 0.75060656 0.75860714 0.78975672 0.78333004\n",
            " 0.80300346 0.77887078 0.78392026 0.77716568 0.80457735 0.80333135\n",
            " 0.80759392 0.83152992 0.82051285 0.82110299 0.85920391 0.84621942\n",
            " 0.89579643 0.8992721  0.90064922 0.90137057 0.91691262 0.89127153\n",
            " 0.89586199 0.89330451 0.87061443 0.88484492 0.87323756 0.87723788\n",
            " 0.88110693 0.87979536 0.87927079 0.88294314 0.89546854 0.8923864\n",
            " 0.89887865 0.90320678 0.89048462 0.89855076 0.89573087 0.8833366\n",
            " 0.90104267 0.90858415 0.88681227 0.85599057 0.89848511 0.88720572\n",
            " 0.85231822 0.85133455 0.76896842 0.7846416  0.79919998 0.7902813\n",
            " 0.80234768 0.8004459  0.80595447 0.80352812 0.78982228 0.80241324\n",
            " 0.78470716 0.7985442  0.77198508 0.77205064 0.76746018 0.76968985\n",
            " 0.75972193 0.75670536 0.75900059 0.74529476 0.74319629 0.73611383\n",
            " 0.7258181  0.66279759 0.51039414 0.5104597  0.53098567 0.37687716\n",
            " 0.33398913 0.38172996 0.44284873 0.45294776 0.51341071 0.49117973\n",
            " 0.49334384 0.45366911 0.46862086 0.47380154 0.4844908  0.48639258\n",
            " 0.4877697  0.49236017 0.44501275 0.45124267 0.46048924 0.46455505\n",
            " 0.50449211 0.51714863 0.54442917 0.62541809 0.63341858 0.66135483\n",
            " 0.64194373 0.64266508 0.62089319 0.58587448 0.61846675 0.61879464\n",
            " 0.61977831 0.60194111 0.59938355 0.58935015 0.5864647  0.56423372\n",
            " 0.55256079 0.50573811 0.56246314 0.55623323 0.55085578 0.56259427\n",
            " 0.56895531 0.58259558 0.58515314 0.59013706 0.59525218 0.59925242\n",
            " 0.59118629 0.5909896  0.60108856 0.59518654 0.6079087  0.60810546\n",
            " 0.59925242 0.59276018 0.62102431 0.63754129 0.64006025 0.6431123\n",
            " 0.64659679 0.65038598 0.65435749 0.65840948 0.66246283 0.66646045\n",
            " 0.67036194 0.67414117 0.67778105 0.68127126 0.68460584 0.6877827\n",
            " 0.69080025 0.69365925 0.69636124 0.69890845 0.70130354 0.70354956\n",
            " 0.70565021 0.70760983 0.70943236 0.71112281 0.71268559 0.71412635\n",
            " 0.71545005 0.71666199 0.71776801 0.71877319 0.71968311 0.72050351\n",
            " 0.72123951 0.72189659 0.72247958 0.72299421 0.72344488 0.72383648\n",
            " 0.72417378 0.7244609  0.72470254 0.72490215 0.72506398 0.72519135\n",
            " 0.72528768 0.72535628 0.72540033 0.72542214 0.72542483 0.7254104\n",
            " 0.72538143 0.72533995 0.72528756 0.72522616 0.72515744 0.72508281\n",
            " 0.72500336 0.72492051 0.7248351  0.72474831 0.72466081 0.72457331\n",
            " 0.72448629 0.72440082]\n",
            "5 day output [[0.72431666]]\n",
            "6 day input [0.75670536 0.75060656 0.75860714 0.78975672 0.78333004 0.80300346\n",
            " 0.77887078 0.78392026 0.77716568 0.80457735 0.80333135 0.80759392\n",
            " 0.83152992 0.82051285 0.82110299 0.85920391 0.84621942 0.89579643\n",
            " 0.8992721  0.90064922 0.90137057 0.91691262 0.89127153 0.89586199\n",
            " 0.89330451 0.87061443 0.88484492 0.87323756 0.87723788 0.88110693\n",
            " 0.87979536 0.87927079 0.88294314 0.89546854 0.8923864  0.89887865\n",
            " 0.90320678 0.89048462 0.89855076 0.89573087 0.8833366  0.90104267\n",
            " 0.90858415 0.88681227 0.85599057 0.89848511 0.88720572 0.85231822\n",
            " 0.85133455 0.76896842 0.7846416  0.79919998 0.7902813  0.80234768\n",
            " 0.8004459  0.80595447 0.80352812 0.78982228 0.80241324 0.78470716\n",
            " 0.7985442  0.77198508 0.77205064 0.76746018 0.76968985 0.75972193\n",
            " 0.75670536 0.75900059 0.74529476 0.74319629 0.73611383 0.7258181\n",
            " 0.66279759 0.51039414 0.5104597  0.53098567 0.37687716 0.33398913\n",
            " 0.38172996 0.44284873 0.45294776 0.51341071 0.49117973 0.49334384\n",
            " 0.45366911 0.46862086 0.47380154 0.4844908  0.48639258 0.4877697\n",
            " 0.49236017 0.44501275 0.45124267 0.46048924 0.46455505 0.50449211\n",
            " 0.51714863 0.54442917 0.62541809 0.63341858 0.66135483 0.64194373\n",
            " 0.64266508 0.62089319 0.58587448 0.61846675 0.61879464 0.61977831\n",
            " 0.60194111 0.59938355 0.58935015 0.5864647  0.56423372 0.55256079\n",
            " 0.50573811 0.56246314 0.55623323 0.55085578 0.56259427 0.56895531\n",
            " 0.58259558 0.58515314 0.59013706 0.59525218 0.59925242 0.59118629\n",
            " 0.5909896  0.60108856 0.59518654 0.6079087  0.60810546 0.59925242\n",
            " 0.59276018 0.62102431 0.63754129 0.64006025 0.6431123  0.64659679\n",
            " 0.65038598 0.65435749 0.65840948 0.66246283 0.66646045 0.67036194\n",
            " 0.67414117 0.67778105 0.68127126 0.68460584 0.6877827  0.69080025\n",
            " 0.69365925 0.69636124 0.69890845 0.70130354 0.70354956 0.70565021\n",
            " 0.70760983 0.70943236 0.71112281 0.71268559 0.71412635 0.71545005\n",
            " 0.71666199 0.71776801 0.71877319 0.71968311 0.72050351 0.72123951\n",
            " 0.72189659 0.72247958 0.72299421 0.72344488 0.72383648 0.72417378\n",
            " 0.7244609  0.72470254 0.72490215 0.72506398 0.72519135 0.72528768\n",
            " 0.72535628 0.72540033 0.72542214 0.72542483 0.7254104  0.72538143\n",
            " 0.72533995 0.72528756 0.72522616 0.72515744 0.72508281 0.72500336\n",
            " 0.72492051 0.7248351  0.72474831 0.72466081 0.72457331 0.72448629\n",
            " 0.72440082 0.72431666]\n",
            "6 day output [[0.72423494]]\n",
            "7 day input [0.75060656 0.75860714 0.78975672 0.78333004 0.80300346 0.77887078\n",
            " 0.78392026 0.77716568 0.80457735 0.80333135 0.80759392 0.83152992\n",
            " 0.82051285 0.82110299 0.85920391 0.84621942 0.89579643 0.8992721\n",
            " 0.90064922 0.90137057 0.91691262 0.89127153 0.89586199 0.89330451\n",
            " 0.87061443 0.88484492 0.87323756 0.87723788 0.88110693 0.87979536\n",
            " 0.87927079 0.88294314 0.89546854 0.8923864  0.89887865 0.90320678\n",
            " 0.89048462 0.89855076 0.89573087 0.8833366  0.90104267 0.90858415\n",
            " 0.88681227 0.85599057 0.89848511 0.88720572 0.85231822 0.85133455\n",
            " 0.76896842 0.7846416  0.79919998 0.7902813  0.80234768 0.8004459\n",
            " 0.80595447 0.80352812 0.78982228 0.80241324 0.78470716 0.7985442\n",
            " 0.77198508 0.77205064 0.76746018 0.76968985 0.75972193 0.75670536\n",
            " 0.75900059 0.74529476 0.74319629 0.73611383 0.7258181  0.66279759\n",
            " 0.51039414 0.5104597  0.53098567 0.37687716 0.33398913 0.38172996\n",
            " 0.44284873 0.45294776 0.51341071 0.49117973 0.49334384 0.45366911\n",
            " 0.46862086 0.47380154 0.4844908  0.48639258 0.4877697  0.49236017\n",
            " 0.44501275 0.45124267 0.46048924 0.46455505 0.50449211 0.51714863\n",
            " 0.54442917 0.62541809 0.63341858 0.66135483 0.64194373 0.64266508\n",
            " 0.62089319 0.58587448 0.61846675 0.61879464 0.61977831 0.60194111\n",
            " 0.59938355 0.58935015 0.5864647  0.56423372 0.55256079 0.50573811\n",
            " 0.56246314 0.55623323 0.55085578 0.56259427 0.56895531 0.58259558\n",
            " 0.58515314 0.59013706 0.59525218 0.59925242 0.59118629 0.5909896\n",
            " 0.60108856 0.59518654 0.6079087  0.60810546 0.59925242 0.59276018\n",
            " 0.62102431 0.63754129 0.64006025 0.6431123  0.64659679 0.65038598\n",
            " 0.65435749 0.65840948 0.66246283 0.66646045 0.67036194 0.67414117\n",
            " 0.67778105 0.68127126 0.68460584 0.6877827  0.69080025 0.69365925\n",
            " 0.69636124 0.69890845 0.70130354 0.70354956 0.70565021 0.70760983\n",
            " 0.70943236 0.71112281 0.71268559 0.71412635 0.71545005 0.71666199\n",
            " 0.71776801 0.71877319 0.71968311 0.72050351 0.72123951 0.72189659\n",
            " 0.72247958 0.72299421 0.72344488 0.72383648 0.72417378 0.7244609\n",
            " 0.72470254 0.72490215 0.72506398 0.72519135 0.72528768 0.72535628\n",
            " 0.72540033 0.72542214 0.72542483 0.7254104  0.72538143 0.72533995\n",
            " 0.72528756 0.72522616 0.72515744 0.72508281 0.72500336 0.72492051\n",
            " 0.7248351  0.72474831 0.72466081 0.72457331 0.72448629 0.72440082\n",
            " 0.72431666 0.72423494]\n",
            "7 day output [[0.72415555]]\n",
            "8 day input [0.75860714 0.78975672 0.78333004 0.80300346 0.77887078 0.78392026\n",
            " 0.77716568 0.80457735 0.80333135 0.80759392 0.83152992 0.82051285\n",
            " 0.82110299 0.85920391 0.84621942 0.89579643 0.8992721  0.90064922\n",
            " 0.90137057 0.91691262 0.89127153 0.89586199 0.89330451 0.87061443\n",
            " 0.88484492 0.87323756 0.87723788 0.88110693 0.87979536 0.87927079\n",
            " 0.88294314 0.89546854 0.8923864  0.89887865 0.90320678 0.89048462\n",
            " 0.89855076 0.89573087 0.8833366  0.90104267 0.90858415 0.88681227\n",
            " 0.85599057 0.89848511 0.88720572 0.85231822 0.85133455 0.76896842\n",
            " 0.7846416  0.79919998 0.7902813  0.80234768 0.8004459  0.80595447\n",
            " 0.80352812 0.78982228 0.80241324 0.78470716 0.7985442  0.77198508\n",
            " 0.77205064 0.76746018 0.76968985 0.75972193 0.75670536 0.75900059\n",
            " 0.74529476 0.74319629 0.73611383 0.7258181  0.66279759 0.51039414\n",
            " 0.5104597  0.53098567 0.37687716 0.33398913 0.38172996 0.44284873\n",
            " 0.45294776 0.51341071 0.49117973 0.49334384 0.45366911 0.46862086\n",
            " 0.47380154 0.4844908  0.48639258 0.4877697  0.49236017 0.44501275\n",
            " 0.45124267 0.46048924 0.46455505 0.50449211 0.51714863 0.54442917\n",
            " 0.62541809 0.63341858 0.66135483 0.64194373 0.64266508 0.62089319\n",
            " 0.58587448 0.61846675 0.61879464 0.61977831 0.60194111 0.59938355\n",
            " 0.58935015 0.5864647  0.56423372 0.55256079 0.50573811 0.56246314\n",
            " 0.55623323 0.55085578 0.56259427 0.56895531 0.58259558 0.58515314\n",
            " 0.59013706 0.59525218 0.59925242 0.59118629 0.5909896  0.60108856\n",
            " 0.59518654 0.6079087  0.60810546 0.59925242 0.59276018 0.62102431\n",
            " 0.63754129 0.64006025 0.6431123  0.64659679 0.65038598 0.65435749\n",
            " 0.65840948 0.66246283 0.66646045 0.67036194 0.67414117 0.67778105\n",
            " 0.68127126 0.68460584 0.6877827  0.69080025 0.69365925 0.69636124\n",
            " 0.69890845 0.70130354 0.70354956 0.70565021 0.70760983 0.70943236\n",
            " 0.71112281 0.71268559 0.71412635 0.71545005 0.71666199 0.71776801\n",
            " 0.71877319 0.71968311 0.72050351 0.72123951 0.72189659 0.72247958\n",
            " 0.72299421 0.72344488 0.72383648 0.72417378 0.7244609  0.72470254\n",
            " 0.72490215 0.72506398 0.72519135 0.72528768 0.72535628 0.72540033\n",
            " 0.72542214 0.72542483 0.7254104  0.72538143 0.72533995 0.72528756\n",
            " 0.72522616 0.72515744 0.72508281 0.72500336 0.72492051 0.7248351\n",
            " 0.72474831 0.72466081 0.72457331 0.72448629 0.72440082 0.72431666\n",
            " 0.72423494 0.72415555]\n",
            "8 day output [[0.7240787]]\n",
            "9 day input [0.78975672 0.78333004 0.80300346 0.77887078 0.78392026 0.77716568\n",
            " 0.80457735 0.80333135 0.80759392 0.83152992 0.82051285 0.82110299\n",
            " 0.85920391 0.84621942 0.89579643 0.8992721  0.90064922 0.90137057\n",
            " 0.91691262 0.89127153 0.89586199 0.89330451 0.87061443 0.88484492\n",
            " 0.87323756 0.87723788 0.88110693 0.87979536 0.87927079 0.88294314\n",
            " 0.89546854 0.8923864  0.89887865 0.90320678 0.89048462 0.89855076\n",
            " 0.89573087 0.8833366  0.90104267 0.90858415 0.88681227 0.85599057\n",
            " 0.89848511 0.88720572 0.85231822 0.85133455 0.76896842 0.7846416\n",
            " 0.79919998 0.7902813  0.80234768 0.8004459  0.80595447 0.80352812\n",
            " 0.78982228 0.80241324 0.78470716 0.7985442  0.77198508 0.77205064\n",
            " 0.76746018 0.76968985 0.75972193 0.75670536 0.75900059 0.74529476\n",
            " 0.74319629 0.73611383 0.7258181  0.66279759 0.51039414 0.5104597\n",
            " 0.53098567 0.37687716 0.33398913 0.38172996 0.44284873 0.45294776\n",
            " 0.51341071 0.49117973 0.49334384 0.45366911 0.46862086 0.47380154\n",
            " 0.4844908  0.48639258 0.4877697  0.49236017 0.44501275 0.45124267\n",
            " 0.46048924 0.46455505 0.50449211 0.51714863 0.54442917 0.62541809\n",
            " 0.63341858 0.66135483 0.64194373 0.64266508 0.62089319 0.58587448\n",
            " 0.61846675 0.61879464 0.61977831 0.60194111 0.59938355 0.58935015\n",
            " 0.5864647  0.56423372 0.55256079 0.50573811 0.56246314 0.55623323\n",
            " 0.55085578 0.56259427 0.56895531 0.58259558 0.58515314 0.59013706\n",
            " 0.59525218 0.59925242 0.59118629 0.5909896  0.60108856 0.59518654\n",
            " 0.6079087  0.60810546 0.59925242 0.59276018 0.62102431 0.63754129\n",
            " 0.64006025 0.6431123  0.64659679 0.65038598 0.65435749 0.65840948\n",
            " 0.66246283 0.66646045 0.67036194 0.67414117 0.67778105 0.68127126\n",
            " 0.68460584 0.6877827  0.69080025 0.69365925 0.69636124 0.69890845\n",
            " 0.70130354 0.70354956 0.70565021 0.70760983 0.70943236 0.71112281\n",
            " 0.71268559 0.71412635 0.71545005 0.71666199 0.71776801 0.71877319\n",
            " 0.71968311 0.72050351 0.72123951 0.72189659 0.72247958 0.72299421\n",
            " 0.72344488 0.72383648 0.72417378 0.7244609  0.72470254 0.72490215\n",
            " 0.72506398 0.72519135 0.72528768 0.72535628 0.72540033 0.72542214\n",
            " 0.72542483 0.7254104  0.72538143 0.72533995 0.72528756 0.72522616\n",
            " 0.72515744 0.72508281 0.72500336 0.72492051 0.7248351  0.72474831\n",
            " 0.72466081 0.72457331 0.72448629 0.72440082 0.72431666 0.72423494\n",
            " 0.72415555 0.72407871]\n",
            "9 day output [[0.724005]]\n",
            "10 day input [0.78333004 0.80300346 0.77887078 0.78392026 0.77716568 0.80457735\n",
            " 0.80333135 0.80759392 0.83152992 0.82051285 0.82110299 0.85920391\n",
            " 0.84621942 0.89579643 0.8992721  0.90064922 0.90137057 0.91691262\n",
            " 0.89127153 0.89586199 0.89330451 0.87061443 0.88484492 0.87323756\n",
            " 0.87723788 0.88110693 0.87979536 0.87927079 0.88294314 0.89546854\n",
            " 0.8923864  0.89887865 0.90320678 0.89048462 0.89855076 0.89573087\n",
            " 0.8833366  0.90104267 0.90858415 0.88681227 0.85599057 0.89848511\n",
            " 0.88720572 0.85231822 0.85133455 0.76896842 0.7846416  0.79919998\n",
            " 0.7902813  0.80234768 0.8004459  0.80595447 0.80352812 0.78982228\n",
            " 0.80241324 0.78470716 0.7985442  0.77198508 0.77205064 0.76746018\n",
            " 0.76968985 0.75972193 0.75670536 0.75900059 0.74529476 0.74319629\n",
            " 0.73611383 0.7258181  0.66279759 0.51039414 0.5104597  0.53098567\n",
            " 0.37687716 0.33398913 0.38172996 0.44284873 0.45294776 0.51341071\n",
            " 0.49117973 0.49334384 0.45366911 0.46862086 0.47380154 0.4844908\n",
            " 0.48639258 0.4877697  0.49236017 0.44501275 0.45124267 0.46048924\n",
            " 0.46455505 0.50449211 0.51714863 0.54442917 0.62541809 0.63341858\n",
            " 0.66135483 0.64194373 0.64266508 0.62089319 0.58587448 0.61846675\n",
            " 0.61879464 0.61977831 0.60194111 0.59938355 0.58935015 0.5864647\n",
            " 0.56423372 0.55256079 0.50573811 0.56246314 0.55623323 0.55085578\n",
            " 0.56259427 0.56895531 0.58259558 0.58515314 0.59013706 0.59525218\n",
            " 0.59925242 0.59118629 0.5909896  0.60108856 0.59518654 0.6079087\n",
            " 0.60810546 0.59925242 0.59276018 0.62102431 0.63754129 0.64006025\n",
            " 0.6431123  0.64659679 0.65038598 0.65435749 0.65840948 0.66246283\n",
            " 0.66646045 0.67036194 0.67414117 0.67778105 0.68127126 0.68460584\n",
            " 0.6877827  0.69080025 0.69365925 0.69636124 0.69890845 0.70130354\n",
            " 0.70354956 0.70565021 0.70760983 0.70943236 0.71112281 0.71268559\n",
            " 0.71412635 0.71545005 0.71666199 0.71776801 0.71877319 0.71968311\n",
            " 0.72050351 0.72123951 0.72189659 0.72247958 0.72299421 0.72344488\n",
            " 0.72383648 0.72417378 0.7244609  0.72470254 0.72490215 0.72506398\n",
            " 0.72519135 0.72528768 0.72535628 0.72540033 0.72542214 0.72542483\n",
            " 0.7254104  0.72538143 0.72533995 0.72528756 0.72522616 0.72515744\n",
            " 0.72508281 0.72500336 0.72492051 0.7248351  0.72474831 0.72466081\n",
            " 0.72457331 0.72448629 0.72440082 0.72431666 0.72423494 0.72415555\n",
            " 0.72407871 0.72400498]\n",
            "10 day output [[0.7239341]]\n",
            "11 day input [0.80300346 0.77887078 0.78392026 0.77716568 0.80457735 0.80333135\n",
            " 0.80759392 0.83152992 0.82051285 0.82110299 0.85920391 0.84621942\n",
            " 0.89579643 0.8992721  0.90064922 0.90137057 0.91691262 0.89127153\n",
            " 0.89586199 0.89330451 0.87061443 0.88484492 0.87323756 0.87723788\n",
            " 0.88110693 0.87979536 0.87927079 0.88294314 0.89546854 0.8923864\n",
            " 0.89887865 0.90320678 0.89048462 0.89855076 0.89573087 0.8833366\n",
            " 0.90104267 0.90858415 0.88681227 0.85599057 0.89848511 0.88720572\n",
            " 0.85231822 0.85133455 0.76896842 0.7846416  0.79919998 0.7902813\n",
            " 0.80234768 0.8004459  0.80595447 0.80352812 0.78982228 0.80241324\n",
            " 0.78470716 0.7985442  0.77198508 0.77205064 0.76746018 0.76968985\n",
            " 0.75972193 0.75670536 0.75900059 0.74529476 0.74319629 0.73611383\n",
            " 0.7258181  0.66279759 0.51039414 0.5104597  0.53098567 0.37687716\n",
            " 0.33398913 0.38172996 0.44284873 0.45294776 0.51341071 0.49117973\n",
            " 0.49334384 0.45366911 0.46862086 0.47380154 0.4844908  0.48639258\n",
            " 0.4877697  0.49236017 0.44501275 0.45124267 0.46048924 0.46455505\n",
            " 0.50449211 0.51714863 0.54442917 0.62541809 0.63341858 0.66135483\n",
            " 0.64194373 0.64266508 0.62089319 0.58587448 0.61846675 0.61879464\n",
            " 0.61977831 0.60194111 0.59938355 0.58935015 0.5864647  0.56423372\n",
            " 0.55256079 0.50573811 0.56246314 0.55623323 0.55085578 0.56259427\n",
            " 0.56895531 0.58259558 0.58515314 0.59013706 0.59525218 0.59925242\n",
            " 0.59118629 0.5909896  0.60108856 0.59518654 0.6079087  0.60810546\n",
            " 0.59925242 0.59276018 0.62102431 0.63754129 0.64006025 0.6431123\n",
            " 0.64659679 0.65038598 0.65435749 0.65840948 0.66246283 0.66646045\n",
            " 0.67036194 0.67414117 0.67778105 0.68127126 0.68460584 0.6877827\n",
            " 0.69080025 0.69365925 0.69636124 0.69890845 0.70130354 0.70354956\n",
            " 0.70565021 0.70760983 0.70943236 0.71112281 0.71268559 0.71412635\n",
            " 0.71545005 0.71666199 0.71776801 0.71877319 0.71968311 0.72050351\n",
            " 0.72123951 0.72189659 0.72247958 0.72299421 0.72344488 0.72383648\n",
            " 0.72417378 0.7244609  0.72470254 0.72490215 0.72506398 0.72519135\n",
            " 0.72528768 0.72535628 0.72540033 0.72542214 0.72542483 0.7254104\n",
            " 0.72538143 0.72533995 0.72528756 0.72522616 0.72515744 0.72508281\n",
            " 0.72500336 0.72492051 0.7248351  0.72474831 0.72466081 0.72457331\n",
            " 0.72448629 0.72440082 0.72431666 0.72423494 0.72415555 0.72407871\n",
            " 0.72400498 0.72393411]\n",
            "11 day output [[0.7238667]]\n",
            "12 day input [0.77887078 0.78392026 0.77716568 0.80457735 0.80333135 0.80759392\n",
            " 0.83152992 0.82051285 0.82110299 0.85920391 0.84621942 0.89579643\n",
            " 0.8992721  0.90064922 0.90137057 0.91691262 0.89127153 0.89586199\n",
            " 0.89330451 0.87061443 0.88484492 0.87323756 0.87723788 0.88110693\n",
            " 0.87979536 0.87927079 0.88294314 0.89546854 0.8923864  0.89887865\n",
            " 0.90320678 0.89048462 0.89855076 0.89573087 0.8833366  0.90104267\n",
            " 0.90858415 0.88681227 0.85599057 0.89848511 0.88720572 0.85231822\n",
            " 0.85133455 0.76896842 0.7846416  0.79919998 0.7902813  0.80234768\n",
            " 0.8004459  0.80595447 0.80352812 0.78982228 0.80241324 0.78470716\n",
            " 0.7985442  0.77198508 0.77205064 0.76746018 0.76968985 0.75972193\n",
            " 0.75670536 0.75900059 0.74529476 0.74319629 0.73611383 0.7258181\n",
            " 0.66279759 0.51039414 0.5104597  0.53098567 0.37687716 0.33398913\n",
            " 0.38172996 0.44284873 0.45294776 0.51341071 0.49117973 0.49334384\n",
            " 0.45366911 0.46862086 0.47380154 0.4844908  0.48639258 0.4877697\n",
            " 0.49236017 0.44501275 0.45124267 0.46048924 0.46455505 0.50449211\n",
            " 0.51714863 0.54442917 0.62541809 0.63341858 0.66135483 0.64194373\n",
            " 0.64266508 0.62089319 0.58587448 0.61846675 0.61879464 0.61977831\n",
            " 0.60194111 0.59938355 0.58935015 0.5864647  0.56423372 0.55256079\n",
            " 0.50573811 0.56246314 0.55623323 0.55085578 0.56259427 0.56895531\n",
            " 0.58259558 0.58515314 0.59013706 0.59525218 0.59925242 0.59118629\n",
            " 0.5909896  0.60108856 0.59518654 0.6079087  0.60810546 0.59925242\n",
            " 0.59276018 0.62102431 0.63754129 0.64006025 0.6431123  0.64659679\n",
            " 0.65038598 0.65435749 0.65840948 0.66246283 0.66646045 0.67036194\n",
            " 0.67414117 0.67778105 0.68127126 0.68460584 0.6877827  0.69080025\n",
            " 0.69365925 0.69636124 0.69890845 0.70130354 0.70354956 0.70565021\n",
            " 0.70760983 0.70943236 0.71112281 0.71268559 0.71412635 0.71545005\n",
            " 0.71666199 0.71776801 0.71877319 0.71968311 0.72050351 0.72123951\n",
            " 0.72189659 0.72247958 0.72299421 0.72344488 0.72383648 0.72417378\n",
            " 0.7244609  0.72470254 0.72490215 0.72506398 0.72519135 0.72528768\n",
            " 0.72535628 0.72540033 0.72542214 0.72542483 0.7254104  0.72538143\n",
            " 0.72533995 0.72528756 0.72522616 0.72515744 0.72508281 0.72500336\n",
            " 0.72492051 0.7248351  0.72474831 0.72466081 0.72457331 0.72448629\n",
            " 0.72440082 0.72431666 0.72423494 0.72415555 0.72407871 0.72400498\n",
            " 0.72393411 0.7238667 ]\n",
            "12 day output [[0.7238023]]\n",
            "13 day input [0.78392026 0.77716568 0.80457735 0.80333135 0.80759392 0.83152992\n",
            " 0.82051285 0.82110299 0.85920391 0.84621942 0.89579643 0.8992721\n",
            " 0.90064922 0.90137057 0.91691262 0.89127153 0.89586199 0.89330451\n",
            " 0.87061443 0.88484492 0.87323756 0.87723788 0.88110693 0.87979536\n",
            " 0.87927079 0.88294314 0.89546854 0.8923864  0.89887865 0.90320678\n",
            " 0.89048462 0.89855076 0.89573087 0.8833366  0.90104267 0.90858415\n",
            " 0.88681227 0.85599057 0.89848511 0.88720572 0.85231822 0.85133455\n",
            " 0.76896842 0.7846416  0.79919998 0.7902813  0.80234768 0.8004459\n",
            " 0.80595447 0.80352812 0.78982228 0.80241324 0.78470716 0.7985442\n",
            " 0.77198508 0.77205064 0.76746018 0.76968985 0.75972193 0.75670536\n",
            " 0.75900059 0.74529476 0.74319629 0.73611383 0.7258181  0.66279759\n",
            " 0.51039414 0.5104597  0.53098567 0.37687716 0.33398913 0.38172996\n",
            " 0.44284873 0.45294776 0.51341071 0.49117973 0.49334384 0.45366911\n",
            " 0.46862086 0.47380154 0.4844908  0.48639258 0.4877697  0.49236017\n",
            " 0.44501275 0.45124267 0.46048924 0.46455505 0.50449211 0.51714863\n",
            " 0.54442917 0.62541809 0.63341858 0.66135483 0.64194373 0.64266508\n",
            " 0.62089319 0.58587448 0.61846675 0.61879464 0.61977831 0.60194111\n",
            " 0.59938355 0.58935015 0.5864647  0.56423372 0.55256079 0.50573811\n",
            " 0.56246314 0.55623323 0.55085578 0.56259427 0.56895531 0.58259558\n",
            " 0.58515314 0.59013706 0.59525218 0.59925242 0.59118629 0.5909896\n",
            " 0.60108856 0.59518654 0.6079087  0.60810546 0.59925242 0.59276018\n",
            " 0.62102431 0.63754129 0.64006025 0.6431123  0.64659679 0.65038598\n",
            " 0.65435749 0.65840948 0.66246283 0.66646045 0.67036194 0.67414117\n",
            " 0.67778105 0.68127126 0.68460584 0.6877827  0.69080025 0.69365925\n",
            " 0.69636124 0.69890845 0.70130354 0.70354956 0.70565021 0.70760983\n",
            " 0.70943236 0.71112281 0.71268559 0.71412635 0.71545005 0.71666199\n",
            " 0.71776801 0.71877319 0.71968311 0.72050351 0.72123951 0.72189659\n",
            " 0.72247958 0.72299421 0.72344488 0.72383648 0.72417378 0.7244609\n",
            " 0.72470254 0.72490215 0.72506398 0.72519135 0.72528768 0.72535628\n",
            " 0.72540033 0.72542214 0.72542483 0.7254104  0.72538143 0.72533995\n",
            " 0.72528756 0.72522616 0.72515744 0.72508281 0.72500336 0.72492051\n",
            " 0.7248351  0.72474831 0.72466081 0.72457331 0.72448629 0.72440082\n",
            " 0.72431666 0.72423494 0.72415555 0.72407871 0.72400498 0.72393411\n",
            " 0.7238667  0.72380233]\n",
            "13 day output [[0.7237416]]\n",
            "14 day input [0.77716568 0.80457735 0.80333135 0.80759392 0.83152992 0.82051285\n",
            " 0.82110299 0.85920391 0.84621942 0.89579643 0.8992721  0.90064922\n",
            " 0.90137057 0.91691262 0.89127153 0.89586199 0.89330451 0.87061443\n",
            " 0.88484492 0.87323756 0.87723788 0.88110693 0.87979536 0.87927079\n",
            " 0.88294314 0.89546854 0.8923864  0.89887865 0.90320678 0.89048462\n",
            " 0.89855076 0.89573087 0.8833366  0.90104267 0.90858415 0.88681227\n",
            " 0.85599057 0.89848511 0.88720572 0.85231822 0.85133455 0.76896842\n",
            " 0.7846416  0.79919998 0.7902813  0.80234768 0.8004459  0.80595447\n",
            " 0.80352812 0.78982228 0.80241324 0.78470716 0.7985442  0.77198508\n",
            " 0.77205064 0.76746018 0.76968985 0.75972193 0.75670536 0.75900059\n",
            " 0.74529476 0.74319629 0.73611383 0.7258181  0.66279759 0.51039414\n",
            " 0.5104597  0.53098567 0.37687716 0.33398913 0.38172996 0.44284873\n",
            " 0.45294776 0.51341071 0.49117973 0.49334384 0.45366911 0.46862086\n",
            " 0.47380154 0.4844908  0.48639258 0.4877697  0.49236017 0.44501275\n",
            " 0.45124267 0.46048924 0.46455505 0.50449211 0.51714863 0.54442917\n",
            " 0.62541809 0.63341858 0.66135483 0.64194373 0.64266508 0.62089319\n",
            " 0.58587448 0.61846675 0.61879464 0.61977831 0.60194111 0.59938355\n",
            " 0.58935015 0.5864647  0.56423372 0.55256079 0.50573811 0.56246314\n",
            " 0.55623323 0.55085578 0.56259427 0.56895531 0.58259558 0.58515314\n",
            " 0.59013706 0.59525218 0.59925242 0.59118629 0.5909896  0.60108856\n",
            " 0.59518654 0.6079087  0.60810546 0.59925242 0.59276018 0.62102431\n",
            " 0.63754129 0.64006025 0.6431123  0.64659679 0.65038598 0.65435749\n",
            " 0.65840948 0.66246283 0.66646045 0.67036194 0.67414117 0.67778105\n",
            " 0.68127126 0.68460584 0.6877827  0.69080025 0.69365925 0.69636124\n",
            " 0.69890845 0.70130354 0.70354956 0.70565021 0.70760983 0.70943236\n",
            " 0.71112281 0.71268559 0.71412635 0.71545005 0.71666199 0.71776801\n",
            " 0.71877319 0.71968311 0.72050351 0.72123951 0.72189659 0.72247958\n",
            " 0.72299421 0.72344488 0.72383648 0.72417378 0.7244609  0.72470254\n",
            " 0.72490215 0.72506398 0.72519135 0.72528768 0.72535628 0.72540033\n",
            " 0.72542214 0.72542483 0.7254104  0.72538143 0.72533995 0.72528756\n",
            " 0.72522616 0.72515744 0.72508281 0.72500336 0.72492051 0.7248351\n",
            " 0.72474831 0.72466081 0.72457331 0.72448629 0.72440082 0.72431666\n",
            " 0.72423494 0.72415555 0.72407871 0.72400498 0.72393411 0.7238667\n",
            " 0.72380233 0.72374159]\n",
            "14 day output [[0.7236841]]\n",
            "15 day input [0.80457735 0.80333135 0.80759392 0.83152992 0.82051285 0.82110299\n",
            " 0.85920391 0.84621942 0.89579643 0.8992721  0.90064922 0.90137057\n",
            " 0.91691262 0.89127153 0.89586199 0.89330451 0.87061443 0.88484492\n",
            " 0.87323756 0.87723788 0.88110693 0.87979536 0.87927079 0.88294314\n",
            " 0.89546854 0.8923864  0.89887865 0.90320678 0.89048462 0.89855076\n",
            " 0.89573087 0.8833366  0.90104267 0.90858415 0.88681227 0.85599057\n",
            " 0.89848511 0.88720572 0.85231822 0.85133455 0.76896842 0.7846416\n",
            " 0.79919998 0.7902813  0.80234768 0.8004459  0.80595447 0.80352812\n",
            " 0.78982228 0.80241324 0.78470716 0.7985442  0.77198508 0.77205064\n",
            " 0.76746018 0.76968985 0.75972193 0.75670536 0.75900059 0.74529476\n",
            " 0.74319629 0.73611383 0.7258181  0.66279759 0.51039414 0.5104597\n",
            " 0.53098567 0.37687716 0.33398913 0.38172996 0.44284873 0.45294776\n",
            " 0.51341071 0.49117973 0.49334384 0.45366911 0.46862086 0.47380154\n",
            " 0.4844908  0.48639258 0.4877697  0.49236017 0.44501275 0.45124267\n",
            " 0.46048924 0.46455505 0.50449211 0.51714863 0.54442917 0.62541809\n",
            " 0.63341858 0.66135483 0.64194373 0.64266508 0.62089319 0.58587448\n",
            " 0.61846675 0.61879464 0.61977831 0.60194111 0.59938355 0.58935015\n",
            " 0.5864647  0.56423372 0.55256079 0.50573811 0.56246314 0.55623323\n",
            " 0.55085578 0.56259427 0.56895531 0.58259558 0.58515314 0.59013706\n",
            " 0.59525218 0.59925242 0.59118629 0.5909896  0.60108856 0.59518654\n",
            " 0.6079087  0.60810546 0.59925242 0.59276018 0.62102431 0.63754129\n",
            " 0.64006025 0.6431123  0.64659679 0.65038598 0.65435749 0.65840948\n",
            " 0.66246283 0.66646045 0.67036194 0.67414117 0.67778105 0.68127126\n",
            " 0.68460584 0.6877827  0.69080025 0.69365925 0.69636124 0.69890845\n",
            " 0.70130354 0.70354956 0.70565021 0.70760983 0.70943236 0.71112281\n",
            " 0.71268559 0.71412635 0.71545005 0.71666199 0.71776801 0.71877319\n",
            " 0.71968311 0.72050351 0.72123951 0.72189659 0.72247958 0.72299421\n",
            " 0.72344488 0.72383648 0.72417378 0.7244609  0.72470254 0.72490215\n",
            " 0.72506398 0.72519135 0.72528768 0.72535628 0.72540033 0.72542214\n",
            " 0.72542483 0.7254104  0.72538143 0.72533995 0.72528756 0.72522616\n",
            " 0.72515744 0.72508281 0.72500336 0.72492051 0.7248351  0.72474831\n",
            " 0.72466081 0.72457331 0.72448629 0.72440082 0.72431666 0.72423494\n",
            " 0.72415555 0.72407871 0.72400498 0.72393411 0.7238667  0.72380233\n",
            " 0.72374159 0.72368407]\n",
            "15 day output [[0.72362995]]\n",
            "16 day input [0.80333135 0.80759392 0.83152992 0.82051285 0.82110299 0.85920391\n",
            " 0.84621942 0.89579643 0.8992721  0.90064922 0.90137057 0.91691262\n",
            " 0.89127153 0.89586199 0.89330451 0.87061443 0.88484492 0.87323756\n",
            " 0.87723788 0.88110693 0.87979536 0.87927079 0.88294314 0.89546854\n",
            " 0.8923864  0.89887865 0.90320678 0.89048462 0.89855076 0.89573087\n",
            " 0.8833366  0.90104267 0.90858415 0.88681227 0.85599057 0.89848511\n",
            " 0.88720572 0.85231822 0.85133455 0.76896842 0.7846416  0.79919998\n",
            " 0.7902813  0.80234768 0.8004459  0.80595447 0.80352812 0.78982228\n",
            " 0.80241324 0.78470716 0.7985442  0.77198508 0.77205064 0.76746018\n",
            " 0.76968985 0.75972193 0.75670536 0.75900059 0.74529476 0.74319629\n",
            " 0.73611383 0.7258181  0.66279759 0.51039414 0.5104597  0.53098567\n",
            " 0.37687716 0.33398913 0.38172996 0.44284873 0.45294776 0.51341071\n",
            " 0.49117973 0.49334384 0.45366911 0.46862086 0.47380154 0.4844908\n",
            " 0.48639258 0.4877697  0.49236017 0.44501275 0.45124267 0.46048924\n",
            " 0.46455505 0.50449211 0.51714863 0.54442917 0.62541809 0.63341858\n",
            " 0.66135483 0.64194373 0.64266508 0.62089319 0.58587448 0.61846675\n",
            " 0.61879464 0.61977831 0.60194111 0.59938355 0.58935015 0.5864647\n",
            " 0.56423372 0.55256079 0.50573811 0.56246314 0.55623323 0.55085578\n",
            " 0.56259427 0.56895531 0.58259558 0.58515314 0.59013706 0.59525218\n",
            " 0.59925242 0.59118629 0.5909896  0.60108856 0.59518654 0.6079087\n",
            " 0.60810546 0.59925242 0.59276018 0.62102431 0.63754129 0.64006025\n",
            " 0.6431123  0.64659679 0.65038598 0.65435749 0.65840948 0.66246283\n",
            " 0.66646045 0.67036194 0.67414117 0.67778105 0.68127126 0.68460584\n",
            " 0.6877827  0.69080025 0.69365925 0.69636124 0.69890845 0.70130354\n",
            " 0.70354956 0.70565021 0.70760983 0.70943236 0.71112281 0.71268559\n",
            " 0.71412635 0.71545005 0.71666199 0.71776801 0.71877319 0.71968311\n",
            " 0.72050351 0.72123951 0.72189659 0.72247958 0.72299421 0.72344488\n",
            " 0.72383648 0.72417378 0.7244609  0.72470254 0.72490215 0.72506398\n",
            " 0.72519135 0.72528768 0.72535628 0.72540033 0.72542214 0.72542483\n",
            " 0.7254104  0.72538143 0.72533995 0.72528756 0.72522616 0.72515744\n",
            " 0.72508281 0.72500336 0.72492051 0.7248351  0.72474831 0.72466081\n",
            " 0.72457331 0.72448629 0.72440082 0.72431666 0.72423494 0.72415555\n",
            " 0.72407871 0.72400498 0.72393411 0.7238667  0.72380233 0.72374159\n",
            " 0.72368407 0.72362995]\n",
            "16 day output [[0.7235791]]\n",
            "17 day input [0.80759392 0.83152992 0.82051285 0.82110299 0.85920391 0.84621942\n",
            " 0.89579643 0.8992721  0.90064922 0.90137057 0.91691262 0.89127153\n",
            " 0.89586199 0.89330451 0.87061443 0.88484492 0.87323756 0.87723788\n",
            " 0.88110693 0.87979536 0.87927079 0.88294314 0.89546854 0.8923864\n",
            " 0.89887865 0.90320678 0.89048462 0.89855076 0.89573087 0.8833366\n",
            " 0.90104267 0.90858415 0.88681227 0.85599057 0.89848511 0.88720572\n",
            " 0.85231822 0.85133455 0.76896842 0.7846416  0.79919998 0.7902813\n",
            " 0.80234768 0.8004459  0.80595447 0.80352812 0.78982228 0.80241324\n",
            " 0.78470716 0.7985442  0.77198508 0.77205064 0.76746018 0.76968985\n",
            " 0.75972193 0.75670536 0.75900059 0.74529476 0.74319629 0.73611383\n",
            " 0.7258181  0.66279759 0.51039414 0.5104597  0.53098567 0.37687716\n",
            " 0.33398913 0.38172996 0.44284873 0.45294776 0.51341071 0.49117973\n",
            " 0.49334384 0.45366911 0.46862086 0.47380154 0.4844908  0.48639258\n",
            " 0.4877697  0.49236017 0.44501275 0.45124267 0.46048924 0.46455505\n",
            " 0.50449211 0.51714863 0.54442917 0.62541809 0.63341858 0.66135483\n",
            " 0.64194373 0.64266508 0.62089319 0.58587448 0.61846675 0.61879464\n",
            " 0.61977831 0.60194111 0.59938355 0.58935015 0.5864647  0.56423372\n",
            " 0.55256079 0.50573811 0.56246314 0.55623323 0.55085578 0.56259427\n",
            " 0.56895531 0.58259558 0.58515314 0.59013706 0.59525218 0.59925242\n",
            " 0.59118629 0.5909896  0.60108856 0.59518654 0.6079087  0.60810546\n",
            " 0.59925242 0.59276018 0.62102431 0.63754129 0.64006025 0.6431123\n",
            " 0.64659679 0.65038598 0.65435749 0.65840948 0.66246283 0.66646045\n",
            " 0.67036194 0.67414117 0.67778105 0.68127126 0.68460584 0.6877827\n",
            " 0.69080025 0.69365925 0.69636124 0.69890845 0.70130354 0.70354956\n",
            " 0.70565021 0.70760983 0.70943236 0.71112281 0.71268559 0.71412635\n",
            " 0.71545005 0.71666199 0.71776801 0.71877319 0.71968311 0.72050351\n",
            " 0.72123951 0.72189659 0.72247958 0.72299421 0.72344488 0.72383648\n",
            " 0.72417378 0.7244609  0.72470254 0.72490215 0.72506398 0.72519135\n",
            " 0.72528768 0.72535628 0.72540033 0.72542214 0.72542483 0.7254104\n",
            " 0.72538143 0.72533995 0.72528756 0.72522616 0.72515744 0.72508281\n",
            " 0.72500336 0.72492051 0.7248351  0.72474831 0.72466081 0.72457331\n",
            " 0.72448629 0.72440082 0.72431666 0.72423494 0.72415555 0.72407871\n",
            " 0.72400498 0.72393411 0.7238667  0.72380233 0.72374159 0.72368407\n",
            " 0.72362995 0.72357911]\n",
            "17 day output [[0.72353154]]\n",
            "18 day input [0.83152992 0.82051285 0.82110299 0.85920391 0.84621942 0.89579643\n",
            " 0.8992721  0.90064922 0.90137057 0.91691262 0.89127153 0.89586199\n",
            " 0.89330451 0.87061443 0.88484492 0.87323756 0.87723788 0.88110693\n",
            " 0.87979536 0.87927079 0.88294314 0.89546854 0.8923864  0.89887865\n",
            " 0.90320678 0.89048462 0.89855076 0.89573087 0.8833366  0.90104267\n",
            " 0.90858415 0.88681227 0.85599057 0.89848511 0.88720572 0.85231822\n",
            " 0.85133455 0.76896842 0.7846416  0.79919998 0.7902813  0.80234768\n",
            " 0.8004459  0.80595447 0.80352812 0.78982228 0.80241324 0.78470716\n",
            " 0.7985442  0.77198508 0.77205064 0.76746018 0.76968985 0.75972193\n",
            " 0.75670536 0.75900059 0.74529476 0.74319629 0.73611383 0.7258181\n",
            " 0.66279759 0.51039414 0.5104597  0.53098567 0.37687716 0.33398913\n",
            " 0.38172996 0.44284873 0.45294776 0.51341071 0.49117973 0.49334384\n",
            " 0.45366911 0.46862086 0.47380154 0.4844908  0.48639258 0.4877697\n",
            " 0.49236017 0.44501275 0.45124267 0.46048924 0.46455505 0.50449211\n",
            " 0.51714863 0.54442917 0.62541809 0.63341858 0.66135483 0.64194373\n",
            " 0.64266508 0.62089319 0.58587448 0.61846675 0.61879464 0.61977831\n",
            " 0.60194111 0.59938355 0.58935015 0.5864647  0.56423372 0.55256079\n",
            " 0.50573811 0.56246314 0.55623323 0.55085578 0.56259427 0.56895531\n",
            " 0.58259558 0.58515314 0.59013706 0.59525218 0.59925242 0.59118629\n",
            " 0.5909896  0.60108856 0.59518654 0.6079087  0.60810546 0.59925242\n",
            " 0.59276018 0.62102431 0.63754129 0.64006025 0.6431123  0.64659679\n",
            " 0.65038598 0.65435749 0.65840948 0.66246283 0.66646045 0.67036194\n",
            " 0.67414117 0.67778105 0.68127126 0.68460584 0.6877827  0.69080025\n",
            " 0.69365925 0.69636124 0.69890845 0.70130354 0.70354956 0.70565021\n",
            " 0.70760983 0.70943236 0.71112281 0.71268559 0.71412635 0.71545005\n",
            " 0.71666199 0.71776801 0.71877319 0.71968311 0.72050351 0.72123951\n",
            " 0.72189659 0.72247958 0.72299421 0.72344488 0.72383648 0.72417378\n",
            " 0.7244609  0.72470254 0.72490215 0.72506398 0.72519135 0.72528768\n",
            " 0.72535628 0.72540033 0.72542214 0.72542483 0.7254104  0.72538143\n",
            " 0.72533995 0.72528756 0.72522616 0.72515744 0.72508281 0.72500336\n",
            " 0.72492051 0.7248351  0.72474831 0.72466081 0.72457331 0.72448629\n",
            " 0.72440082 0.72431666 0.72423494 0.72415555 0.72407871 0.72400498\n",
            " 0.72393411 0.7238667  0.72380233 0.72374159 0.72368407 0.72362995\n",
            " 0.72357911 0.72353154]\n",
            "18 day output [[0.72348744]]\n",
            "19 day input [0.82051285 0.82110299 0.85920391 0.84621942 0.89579643 0.8992721\n",
            " 0.90064922 0.90137057 0.91691262 0.89127153 0.89586199 0.89330451\n",
            " 0.87061443 0.88484492 0.87323756 0.87723788 0.88110693 0.87979536\n",
            " 0.87927079 0.88294314 0.89546854 0.8923864  0.89887865 0.90320678\n",
            " 0.89048462 0.89855076 0.89573087 0.8833366  0.90104267 0.90858415\n",
            " 0.88681227 0.85599057 0.89848511 0.88720572 0.85231822 0.85133455\n",
            " 0.76896842 0.7846416  0.79919998 0.7902813  0.80234768 0.8004459\n",
            " 0.80595447 0.80352812 0.78982228 0.80241324 0.78470716 0.7985442\n",
            " 0.77198508 0.77205064 0.76746018 0.76968985 0.75972193 0.75670536\n",
            " 0.75900059 0.74529476 0.74319629 0.73611383 0.7258181  0.66279759\n",
            " 0.51039414 0.5104597  0.53098567 0.37687716 0.33398913 0.38172996\n",
            " 0.44284873 0.45294776 0.51341071 0.49117973 0.49334384 0.45366911\n",
            " 0.46862086 0.47380154 0.4844908  0.48639258 0.4877697  0.49236017\n",
            " 0.44501275 0.45124267 0.46048924 0.46455505 0.50449211 0.51714863\n",
            " 0.54442917 0.62541809 0.63341858 0.66135483 0.64194373 0.64266508\n",
            " 0.62089319 0.58587448 0.61846675 0.61879464 0.61977831 0.60194111\n",
            " 0.59938355 0.58935015 0.5864647  0.56423372 0.55256079 0.50573811\n",
            " 0.56246314 0.55623323 0.55085578 0.56259427 0.56895531 0.58259558\n",
            " 0.58515314 0.59013706 0.59525218 0.59925242 0.59118629 0.5909896\n",
            " 0.60108856 0.59518654 0.6079087  0.60810546 0.59925242 0.59276018\n",
            " 0.62102431 0.63754129 0.64006025 0.6431123  0.64659679 0.65038598\n",
            " 0.65435749 0.65840948 0.66246283 0.66646045 0.67036194 0.67414117\n",
            " 0.67778105 0.68127126 0.68460584 0.6877827  0.69080025 0.69365925\n",
            " 0.69636124 0.69890845 0.70130354 0.70354956 0.70565021 0.70760983\n",
            " 0.70943236 0.71112281 0.71268559 0.71412635 0.71545005 0.71666199\n",
            " 0.71776801 0.71877319 0.71968311 0.72050351 0.72123951 0.72189659\n",
            " 0.72247958 0.72299421 0.72344488 0.72383648 0.72417378 0.7244609\n",
            " 0.72470254 0.72490215 0.72506398 0.72519135 0.72528768 0.72535628\n",
            " 0.72540033 0.72542214 0.72542483 0.7254104  0.72538143 0.72533995\n",
            " 0.72528756 0.72522616 0.72515744 0.72508281 0.72500336 0.72492051\n",
            " 0.7248351  0.72474831 0.72466081 0.72457331 0.72448629 0.72440082\n",
            " 0.72431666 0.72423494 0.72415555 0.72407871 0.72400498 0.72393411\n",
            " 0.7238667  0.72380233 0.72374159 0.72368407 0.72362995 0.72357911\n",
            " 0.72353154 0.72348744]\n",
            "19 day output [[0.72344625]]\n",
            "20 day input [0.82110299 0.85920391 0.84621942 0.89579643 0.8992721  0.90064922\n",
            " 0.90137057 0.91691262 0.89127153 0.89586199 0.89330451 0.87061443\n",
            " 0.88484492 0.87323756 0.87723788 0.88110693 0.87979536 0.87927079\n",
            " 0.88294314 0.89546854 0.8923864  0.89887865 0.90320678 0.89048462\n",
            " 0.89855076 0.89573087 0.8833366  0.90104267 0.90858415 0.88681227\n",
            " 0.85599057 0.89848511 0.88720572 0.85231822 0.85133455 0.76896842\n",
            " 0.7846416  0.79919998 0.7902813  0.80234768 0.8004459  0.80595447\n",
            " 0.80352812 0.78982228 0.80241324 0.78470716 0.7985442  0.77198508\n",
            " 0.77205064 0.76746018 0.76968985 0.75972193 0.75670536 0.75900059\n",
            " 0.74529476 0.74319629 0.73611383 0.7258181  0.66279759 0.51039414\n",
            " 0.5104597  0.53098567 0.37687716 0.33398913 0.38172996 0.44284873\n",
            " 0.45294776 0.51341071 0.49117973 0.49334384 0.45366911 0.46862086\n",
            " 0.47380154 0.4844908  0.48639258 0.4877697  0.49236017 0.44501275\n",
            " 0.45124267 0.46048924 0.46455505 0.50449211 0.51714863 0.54442917\n",
            " 0.62541809 0.63341858 0.66135483 0.64194373 0.64266508 0.62089319\n",
            " 0.58587448 0.61846675 0.61879464 0.61977831 0.60194111 0.59938355\n",
            " 0.58935015 0.5864647  0.56423372 0.55256079 0.50573811 0.56246314\n",
            " 0.55623323 0.55085578 0.56259427 0.56895531 0.58259558 0.58515314\n",
            " 0.59013706 0.59525218 0.59925242 0.59118629 0.5909896  0.60108856\n",
            " 0.59518654 0.6079087  0.60810546 0.59925242 0.59276018 0.62102431\n",
            " 0.63754129 0.64006025 0.6431123  0.64659679 0.65038598 0.65435749\n",
            " 0.65840948 0.66246283 0.66646045 0.67036194 0.67414117 0.67778105\n",
            " 0.68127126 0.68460584 0.6877827  0.69080025 0.69365925 0.69636124\n",
            " 0.69890845 0.70130354 0.70354956 0.70565021 0.70760983 0.70943236\n",
            " 0.71112281 0.71268559 0.71412635 0.71545005 0.71666199 0.71776801\n",
            " 0.71877319 0.71968311 0.72050351 0.72123951 0.72189659 0.72247958\n",
            " 0.72299421 0.72344488 0.72383648 0.72417378 0.7244609  0.72470254\n",
            " 0.72490215 0.72506398 0.72519135 0.72528768 0.72535628 0.72540033\n",
            " 0.72542214 0.72542483 0.7254104  0.72538143 0.72533995 0.72528756\n",
            " 0.72522616 0.72515744 0.72508281 0.72500336 0.72492051 0.7248351\n",
            " 0.72474831 0.72466081 0.72457331 0.72448629 0.72440082 0.72431666\n",
            " 0.72423494 0.72415555 0.72407871 0.72400498 0.72393411 0.7238667\n",
            " 0.72380233 0.72374159 0.72368407 0.72362995 0.72357911 0.72353154\n",
            " 0.72348744 0.72344625]\n",
            "20 day output [[0.7234081]]\n",
            "21 day input [0.85920391 0.84621942 0.89579643 0.8992721  0.90064922 0.90137057\n",
            " 0.91691262 0.89127153 0.89586199 0.89330451 0.87061443 0.88484492\n",
            " 0.87323756 0.87723788 0.88110693 0.87979536 0.87927079 0.88294314\n",
            " 0.89546854 0.8923864  0.89887865 0.90320678 0.89048462 0.89855076\n",
            " 0.89573087 0.8833366  0.90104267 0.90858415 0.88681227 0.85599057\n",
            " 0.89848511 0.88720572 0.85231822 0.85133455 0.76896842 0.7846416\n",
            " 0.79919998 0.7902813  0.80234768 0.8004459  0.80595447 0.80352812\n",
            " 0.78982228 0.80241324 0.78470716 0.7985442  0.77198508 0.77205064\n",
            " 0.76746018 0.76968985 0.75972193 0.75670536 0.75900059 0.74529476\n",
            " 0.74319629 0.73611383 0.7258181  0.66279759 0.51039414 0.5104597\n",
            " 0.53098567 0.37687716 0.33398913 0.38172996 0.44284873 0.45294776\n",
            " 0.51341071 0.49117973 0.49334384 0.45366911 0.46862086 0.47380154\n",
            " 0.4844908  0.48639258 0.4877697  0.49236017 0.44501275 0.45124267\n",
            " 0.46048924 0.46455505 0.50449211 0.51714863 0.54442917 0.62541809\n",
            " 0.63341858 0.66135483 0.64194373 0.64266508 0.62089319 0.58587448\n",
            " 0.61846675 0.61879464 0.61977831 0.60194111 0.59938355 0.58935015\n",
            " 0.5864647  0.56423372 0.55256079 0.50573811 0.56246314 0.55623323\n",
            " 0.55085578 0.56259427 0.56895531 0.58259558 0.58515314 0.59013706\n",
            " 0.59525218 0.59925242 0.59118629 0.5909896  0.60108856 0.59518654\n",
            " 0.6079087  0.60810546 0.59925242 0.59276018 0.62102431 0.63754129\n",
            " 0.64006025 0.6431123  0.64659679 0.65038598 0.65435749 0.65840948\n",
            " 0.66246283 0.66646045 0.67036194 0.67414117 0.67778105 0.68127126\n",
            " 0.68460584 0.6877827  0.69080025 0.69365925 0.69636124 0.69890845\n",
            " 0.70130354 0.70354956 0.70565021 0.70760983 0.70943236 0.71112281\n",
            " 0.71268559 0.71412635 0.71545005 0.71666199 0.71776801 0.71877319\n",
            " 0.71968311 0.72050351 0.72123951 0.72189659 0.72247958 0.72299421\n",
            " 0.72344488 0.72383648 0.72417378 0.7244609  0.72470254 0.72490215\n",
            " 0.72506398 0.72519135 0.72528768 0.72535628 0.72540033 0.72542214\n",
            " 0.72542483 0.7254104  0.72538143 0.72533995 0.72528756 0.72522616\n",
            " 0.72515744 0.72508281 0.72500336 0.72492051 0.7248351  0.72474831\n",
            " 0.72466081 0.72457331 0.72448629 0.72440082 0.72431666 0.72423494\n",
            " 0.72415555 0.72407871 0.72400498 0.72393411 0.7238667  0.72380233\n",
            " 0.72374159 0.72368407 0.72362995 0.72357911 0.72353154 0.72348744\n",
            " 0.72344625 0.7234081 ]\n",
            "21 day output [[0.72337294]]\n",
            "22 day input [0.84621942 0.89579643 0.8992721  0.90064922 0.90137057 0.91691262\n",
            " 0.89127153 0.89586199 0.89330451 0.87061443 0.88484492 0.87323756\n",
            " 0.87723788 0.88110693 0.87979536 0.87927079 0.88294314 0.89546854\n",
            " 0.8923864  0.89887865 0.90320678 0.89048462 0.89855076 0.89573087\n",
            " 0.8833366  0.90104267 0.90858415 0.88681227 0.85599057 0.89848511\n",
            " 0.88720572 0.85231822 0.85133455 0.76896842 0.7846416  0.79919998\n",
            " 0.7902813  0.80234768 0.8004459  0.80595447 0.80352812 0.78982228\n",
            " 0.80241324 0.78470716 0.7985442  0.77198508 0.77205064 0.76746018\n",
            " 0.76968985 0.75972193 0.75670536 0.75900059 0.74529476 0.74319629\n",
            " 0.73611383 0.7258181  0.66279759 0.51039414 0.5104597  0.53098567\n",
            " 0.37687716 0.33398913 0.38172996 0.44284873 0.45294776 0.51341071\n",
            " 0.49117973 0.49334384 0.45366911 0.46862086 0.47380154 0.4844908\n",
            " 0.48639258 0.4877697  0.49236017 0.44501275 0.45124267 0.46048924\n",
            " 0.46455505 0.50449211 0.51714863 0.54442917 0.62541809 0.63341858\n",
            " 0.66135483 0.64194373 0.64266508 0.62089319 0.58587448 0.61846675\n",
            " 0.61879464 0.61977831 0.60194111 0.59938355 0.58935015 0.5864647\n",
            " 0.56423372 0.55256079 0.50573811 0.56246314 0.55623323 0.55085578\n",
            " 0.56259427 0.56895531 0.58259558 0.58515314 0.59013706 0.59525218\n",
            " 0.59925242 0.59118629 0.5909896  0.60108856 0.59518654 0.6079087\n",
            " 0.60810546 0.59925242 0.59276018 0.62102431 0.63754129 0.64006025\n",
            " 0.6431123  0.64659679 0.65038598 0.65435749 0.65840948 0.66246283\n",
            " 0.66646045 0.67036194 0.67414117 0.67778105 0.68127126 0.68460584\n",
            " 0.6877827  0.69080025 0.69365925 0.69636124 0.69890845 0.70130354\n",
            " 0.70354956 0.70565021 0.70760983 0.70943236 0.71112281 0.71268559\n",
            " 0.71412635 0.71545005 0.71666199 0.71776801 0.71877319 0.71968311\n",
            " 0.72050351 0.72123951 0.72189659 0.72247958 0.72299421 0.72344488\n",
            " 0.72383648 0.72417378 0.7244609  0.72470254 0.72490215 0.72506398\n",
            " 0.72519135 0.72528768 0.72535628 0.72540033 0.72542214 0.72542483\n",
            " 0.7254104  0.72538143 0.72533995 0.72528756 0.72522616 0.72515744\n",
            " 0.72508281 0.72500336 0.72492051 0.7248351  0.72474831 0.72466081\n",
            " 0.72457331 0.72448629 0.72440082 0.72431666 0.72423494 0.72415555\n",
            " 0.72407871 0.72400498 0.72393411 0.7238667  0.72380233 0.72374159\n",
            " 0.72368407 0.72362995 0.72357911 0.72353154 0.72348744 0.72344625\n",
            " 0.7234081  0.72337294]\n",
            "22 day output [[0.72334063]]\n",
            "23 day input [0.89579643 0.8992721  0.90064922 0.90137057 0.91691262 0.89127153\n",
            " 0.89586199 0.89330451 0.87061443 0.88484492 0.87323756 0.87723788\n",
            " 0.88110693 0.87979536 0.87927079 0.88294314 0.89546854 0.8923864\n",
            " 0.89887865 0.90320678 0.89048462 0.89855076 0.89573087 0.8833366\n",
            " 0.90104267 0.90858415 0.88681227 0.85599057 0.89848511 0.88720572\n",
            " 0.85231822 0.85133455 0.76896842 0.7846416  0.79919998 0.7902813\n",
            " 0.80234768 0.8004459  0.80595447 0.80352812 0.78982228 0.80241324\n",
            " 0.78470716 0.7985442  0.77198508 0.77205064 0.76746018 0.76968985\n",
            " 0.75972193 0.75670536 0.75900059 0.74529476 0.74319629 0.73611383\n",
            " 0.7258181  0.66279759 0.51039414 0.5104597  0.53098567 0.37687716\n",
            " 0.33398913 0.38172996 0.44284873 0.45294776 0.51341071 0.49117973\n",
            " 0.49334384 0.45366911 0.46862086 0.47380154 0.4844908  0.48639258\n",
            " 0.4877697  0.49236017 0.44501275 0.45124267 0.46048924 0.46455505\n",
            " 0.50449211 0.51714863 0.54442917 0.62541809 0.63341858 0.66135483\n",
            " 0.64194373 0.64266508 0.62089319 0.58587448 0.61846675 0.61879464\n",
            " 0.61977831 0.60194111 0.59938355 0.58935015 0.5864647  0.56423372\n",
            " 0.55256079 0.50573811 0.56246314 0.55623323 0.55085578 0.56259427\n",
            " 0.56895531 0.58259558 0.58515314 0.59013706 0.59525218 0.59925242\n",
            " 0.59118629 0.5909896  0.60108856 0.59518654 0.6079087  0.60810546\n",
            " 0.59925242 0.59276018 0.62102431 0.63754129 0.64006025 0.6431123\n",
            " 0.64659679 0.65038598 0.65435749 0.65840948 0.66246283 0.66646045\n",
            " 0.67036194 0.67414117 0.67778105 0.68127126 0.68460584 0.6877827\n",
            " 0.69080025 0.69365925 0.69636124 0.69890845 0.70130354 0.70354956\n",
            " 0.70565021 0.70760983 0.70943236 0.71112281 0.71268559 0.71412635\n",
            " 0.71545005 0.71666199 0.71776801 0.71877319 0.71968311 0.72050351\n",
            " 0.72123951 0.72189659 0.72247958 0.72299421 0.72344488 0.72383648\n",
            " 0.72417378 0.7244609  0.72470254 0.72490215 0.72506398 0.72519135\n",
            " 0.72528768 0.72535628 0.72540033 0.72542214 0.72542483 0.7254104\n",
            " 0.72538143 0.72533995 0.72528756 0.72522616 0.72515744 0.72508281\n",
            " 0.72500336 0.72492051 0.7248351  0.72474831 0.72466081 0.72457331\n",
            " 0.72448629 0.72440082 0.72431666 0.72423494 0.72415555 0.72407871\n",
            " 0.72400498 0.72393411 0.7238667  0.72380233 0.72374159 0.72368407\n",
            " 0.72362995 0.72357911 0.72353154 0.72348744 0.72344625 0.7234081\n",
            " 0.72337294 0.72334063]\n",
            "23 day output [[0.723311]]\n",
            "24 day input [0.8992721  0.90064922 0.90137057 0.91691262 0.89127153 0.89586199\n",
            " 0.89330451 0.87061443 0.88484492 0.87323756 0.87723788 0.88110693\n",
            " 0.87979536 0.87927079 0.88294314 0.89546854 0.8923864  0.89887865\n",
            " 0.90320678 0.89048462 0.89855076 0.89573087 0.8833366  0.90104267\n",
            " 0.90858415 0.88681227 0.85599057 0.89848511 0.88720572 0.85231822\n",
            " 0.85133455 0.76896842 0.7846416  0.79919998 0.7902813  0.80234768\n",
            " 0.8004459  0.80595447 0.80352812 0.78982228 0.80241324 0.78470716\n",
            " 0.7985442  0.77198508 0.77205064 0.76746018 0.76968985 0.75972193\n",
            " 0.75670536 0.75900059 0.74529476 0.74319629 0.73611383 0.7258181\n",
            " 0.66279759 0.51039414 0.5104597  0.53098567 0.37687716 0.33398913\n",
            " 0.38172996 0.44284873 0.45294776 0.51341071 0.49117973 0.49334384\n",
            " 0.45366911 0.46862086 0.47380154 0.4844908  0.48639258 0.4877697\n",
            " 0.49236017 0.44501275 0.45124267 0.46048924 0.46455505 0.50449211\n",
            " 0.51714863 0.54442917 0.62541809 0.63341858 0.66135483 0.64194373\n",
            " 0.64266508 0.62089319 0.58587448 0.61846675 0.61879464 0.61977831\n",
            " 0.60194111 0.59938355 0.58935015 0.5864647  0.56423372 0.55256079\n",
            " 0.50573811 0.56246314 0.55623323 0.55085578 0.56259427 0.56895531\n",
            " 0.58259558 0.58515314 0.59013706 0.59525218 0.59925242 0.59118629\n",
            " 0.5909896  0.60108856 0.59518654 0.6079087  0.60810546 0.59925242\n",
            " 0.59276018 0.62102431 0.63754129 0.64006025 0.6431123  0.64659679\n",
            " 0.65038598 0.65435749 0.65840948 0.66246283 0.66646045 0.67036194\n",
            " 0.67414117 0.67778105 0.68127126 0.68460584 0.6877827  0.69080025\n",
            " 0.69365925 0.69636124 0.69890845 0.70130354 0.70354956 0.70565021\n",
            " 0.70760983 0.70943236 0.71112281 0.71268559 0.71412635 0.71545005\n",
            " 0.71666199 0.71776801 0.71877319 0.71968311 0.72050351 0.72123951\n",
            " 0.72189659 0.72247958 0.72299421 0.72344488 0.72383648 0.72417378\n",
            " 0.7244609  0.72470254 0.72490215 0.72506398 0.72519135 0.72528768\n",
            " 0.72535628 0.72540033 0.72542214 0.72542483 0.7254104  0.72538143\n",
            " 0.72533995 0.72528756 0.72522616 0.72515744 0.72508281 0.72500336\n",
            " 0.72492051 0.7248351  0.72474831 0.72466081 0.72457331 0.72448629\n",
            " 0.72440082 0.72431666 0.72423494 0.72415555 0.72407871 0.72400498\n",
            " 0.72393411 0.7238667  0.72380233 0.72374159 0.72368407 0.72362995\n",
            " 0.72357911 0.72353154 0.72348744 0.72344625 0.7234081  0.72337294\n",
            " 0.72334063 0.72331101]\n",
            "24 day output [[0.723284]]\n",
            "25 day input [0.90064922 0.90137057 0.91691262 0.89127153 0.89586199 0.89330451\n",
            " 0.87061443 0.88484492 0.87323756 0.87723788 0.88110693 0.87979536\n",
            " 0.87927079 0.88294314 0.89546854 0.8923864  0.89887865 0.90320678\n",
            " 0.89048462 0.89855076 0.89573087 0.8833366  0.90104267 0.90858415\n",
            " 0.88681227 0.85599057 0.89848511 0.88720572 0.85231822 0.85133455\n",
            " 0.76896842 0.7846416  0.79919998 0.7902813  0.80234768 0.8004459\n",
            " 0.80595447 0.80352812 0.78982228 0.80241324 0.78470716 0.7985442\n",
            " 0.77198508 0.77205064 0.76746018 0.76968985 0.75972193 0.75670536\n",
            " 0.75900059 0.74529476 0.74319629 0.73611383 0.7258181  0.66279759\n",
            " 0.51039414 0.5104597  0.53098567 0.37687716 0.33398913 0.38172996\n",
            " 0.44284873 0.45294776 0.51341071 0.49117973 0.49334384 0.45366911\n",
            " 0.46862086 0.47380154 0.4844908  0.48639258 0.4877697  0.49236017\n",
            " 0.44501275 0.45124267 0.46048924 0.46455505 0.50449211 0.51714863\n",
            " 0.54442917 0.62541809 0.63341858 0.66135483 0.64194373 0.64266508\n",
            " 0.62089319 0.58587448 0.61846675 0.61879464 0.61977831 0.60194111\n",
            " 0.59938355 0.58935015 0.5864647  0.56423372 0.55256079 0.50573811\n",
            " 0.56246314 0.55623323 0.55085578 0.56259427 0.56895531 0.58259558\n",
            " 0.58515314 0.59013706 0.59525218 0.59925242 0.59118629 0.5909896\n",
            " 0.60108856 0.59518654 0.6079087  0.60810546 0.59925242 0.59276018\n",
            " 0.62102431 0.63754129 0.64006025 0.6431123  0.64659679 0.65038598\n",
            " 0.65435749 0.65840948 0.66246283 0.66646045 0.67036194 0.67414117\n",
            " 0.67778105 0.68127126 0.68460584 0.6877827  0.69080025 0.69365925\n",
            " 0.69636124 0.69890845 0.70130354 0.70354956 0.70565021 0.70760983\n",
            " 0.70943236 0.71112281 0.71268559 0.71412635 0.71545005 0.71666199\n",
            " 0.71776801 0.71877319 0.71968311 0.72050351 0.72123951 0.72189659\n",
            " 0.72247958 0.72299421 0.72344488 0.72383648 0.72417378 0.7244609\n",
            " 0.72470254 0.72490215 0.72506398 0.72519135 0.72528768 0.72535628\n",
            " 0.72540033 0.72542214 0.72542483 0.7254104  0.72538143 0.72533995\n",
            " 0.72528756 0.72522616 0.72515744 0.72508281 0.72500336 0.72492051\n",
            " 0.7248351  0.72474831 0.72466081 0.72457331 0.72448629 0.72440082\n",
            " 0.72431666 0.72423494 0.72415555 0.72407871 0.72400498 0.72393411\n",
            " 0.7238667  0.72380233 0.72374159 0.72368407 0.72362995 0.72357911\n",
            " 0.72353154 0.72348744 0.72344625 0.7234081  0.72337294 0.72334063\n",
            " 0.72331101 0.72328401]\n",
            "25 day output [[0.7232594]]\n",
            "26 day input [0.90137057 0.91691262 0.89127153 0.89586199 0.89330451 0.87061443\n",
            " 0.88484492 0.87323756 0.87723788 0.88110693 0.87979536 0.87927079\n",
            " 0.88294314 0.89546854 0.8923864  0.89887865 0.90320678 0.89048462\n",
            " 0.89855076 0.89573087 0.8833366  0.90104267 0.90858415 0.88681227\n",
            " 0.85599057 0.89848511 0.88720572 0.85231822 0.85133455 0.76896842\n",
            " 0.7846416  0.79919998 0.7902813  0.80234768 0.8004459  0.80595447\n",
            " 0.80352812 0.78982228 0.80241324 0.78470716 0.7985442  0.77198508\n",
            " 0.77205064 0.76746018 0.76968985 0.75972193 0.75670536 0.75900059\n",
            " 0.74529476 0.74319629 0.73611383 0.7258181  0.66279759 0.51039414\n",
            " 0.5104597  0.53098567 0.37687716 0.33398913 0.38172996 0.44284873\n",
            " 0.45294776 0.51341071 0.49117973 0.49334384 0.45366911 0.46862086\n",
            " 0.47380154 0.4844908  0.48639258 0.4877697  0.49236017 0.44501275\n",
            " 0.45124267 0.46048924 0.46455505 0.50449211 0.51714863 0.54442917\n",
            " 0.62541809 0.63341858 0.66135483 0.64194373 0.64266508 0.62089319\n",
            " 0.58587448 0.61846675 0.61879464 0.61977831 0.60194111 0.59938355\n",
            " 0.58935015 0.5864647  0.56423372 0.55256079 0.50573811 0.56246314\n",
            " 0.55623323 0.55085578 0.56259427 0.56895531 0.58259558 0.58515314\n",
            " 0.59013706 0.59525218 0.59925242 0.59118629 0.5909896  0.60108856\n",
            " 0.59518654 0.6079087  0.60810546 0.59925242 0.59276018 0.62102431\n",
            " 0.63754129 0.64006025 0.6431123  0.64659679 0.65038598 0.65435749\n",
            " 0.65840948 0.66246283 0.66646045 0.67036194 0.67414117 0.67778105\n",
            " 0.68127126 0.68460584 0.6877827  0.69080025 0.69365925 0.69636124\n",
            " 0.69890845 0.70130354 0.70354956 0.70565021 0.70760983 0.70943236\n",
            " 0.71112281 0.71268559 0.71412635 0.71545005 0.71666199 0.71776801\n",
            " 0.71877319 0.71968311 0.72050351 0.72123951 0.72189659 0.72247958\n",
            " 0.72299421 0.72344488 0.72383648 0.72417378 0.7244609  0.72470254\n",
            " 0.72490215 0.72506398 0.72519135 0.72528768 0.72535628 0.72540033\n",
            " 0.72542214 0.72542483 0.7254104  0.72538143 0.72533995 0.72528756\n",
            " 0.72522616 0.72515744 0.72508281 0.72500336 0.72492051 0.7248351\n",
            " 0.72474831 0.72466081 0.72457331 0.72448629 0.72440082 0.72431666\n",
            " 0.72423494 0.72415555 0.72407871 0.72400498 0.72393411 0.7238667\n",
            " 0.72380233 0.72374159 0.72368407 0.72362995 0.72357911 0.72353154\n",
            " 0.72348744 0.72344625 0.7234081  0.72337294 0.72334063 0.72331101\n",
            " 0.72328401 0.72325939]\n",
            "26 day output [[0.72323704]]\n",
            "27 day input [0.91691262 0.89127153 0.89586199 0.89330451 0.87061443 0.88484492\n",
            " 0.87323756 0.87723788 0.88110693 0.87979536 0.87927079 0.88294314\n",
            " 0.89546854 0.8923864  0.89887865 0.90320678 0.89048462 0.89855076\n",
            " 0.89573087 0.8833366  0.90104267 0.90858415 0.88681227 0.85599057\n",
            " 0.89848511 0.88720572 0.85231822 0.85133455 0.76896842 0.7846416\n",
            " 0.79919998 0.7902813  0.80234768 0.8004459  0.80595447 0.80352812\n",
            " 0.78982228 0.80241324 0.78470716 0.7985442  0.77198508 0.77205064\n",
            " 0.76746018 0.76968985 0.75972193 0.75670536 0.75900059 0.74529476\n",
            " 0.74319629 0.73611383 0.7258181  0.66279759 0.51039414 0.5104597\n",
            " 0.53098567 0.37687716 0.33398913 0.38172996 0.44284873 0.45294776\n",
            " 0.51341071 0.49117973 0.49334384 0.45366911 0.46862086 0.47380154\n",
            " 0.4844908  0.48639258 0.4877697  0.49236017 0.44501275 0.45124267\n",
            " 0.46048924 0.46455505 0.50449211 0.51714863 0.54442917 0.62541809\n",
            " 0.63341858 0.66135483 0.64194373 0.64266508 0.62089319 0.58587448\n",
            " 0.61846675 0.61879464 0.61977831 0.60194111 0.59938355 0.58935015\n",
            " 0.5864647  0.56423372 0.55256079 0.50573811 0.56246314 0.55623323\n",
            " 0.55085578 0.56259427 0.56895531 0.58259558 0.58515314 0.59013706\n",
            " 0.59525218 0.59925242 0.59118629 0.5909896  0.60108856 0.59518654\n",
            " 0.6079087  0.60810546 0.59925242 0.59276018 0.62102431 0.63754129\n",
            " 0.64006025 0.6431123  0.64659679 0.65038598 0.65435749 0.65840948\n",
            " 0.66246283 0.66646045 0.67036194 0.67414117 0.67778105 0.68127126\n",
            " 0.68460584 0.6877827  0.69080025 0.69365925 0.69636124 0.69890845\n",
            " 0.70130354 0.70354956 0.70565021 0.70760983 0.70943236 0.71112281\n",
            " 0.71268559 0.71412635 0.71545005 0.71666199 0.71776801 0.71877319\n",
            " 0.71968311 0.72050351 0.72123951 0.72189659 0.72247958 0.72299421\n",
            " 0.72344488 0.72383648 0.72417378 0.7244609  0.72470254 0.72490215\n",
            " 0.72506398 0.72519135 0.72528768 0.72535628 0.72540033 0.72542214\n",
            " 0.72542483 0.7254104  0.72538143 0.72533995 0.72528756 0.72522616\n",
            " 0.72515744 0.72508281 0.72500336 0.72492051 0.7248351  0.72474831\n",
            " 0.72466081 0.72457331 0.72448629 0.72440082 0.72431666 0.72423494\n",
            " 0.72415555 0.72407871 0.72400498 0.72393411 0.7238667  0.72380233\n",
            " 0.72374159 0.72368407 0.72362995 0.72357911 0.72353154 0.72348744\n",
            " 0.72344625 0.7234081  0.72337294 0.72334063 0.72331101 0.72328401\n",
            " 0.72325939 0.72323704]\n",
            "27 day output [[0.7232169]]\n",
            "28 day input [0.89127153 0.89586199 0.89330451 0.87061443 0.88484492 0.87323756\n",
            " 0.87723788 0.88110693 0.87979536 0.87927079 0.88294314 0.89546854\n",
            " 0.8923864  0.89887865 0.90320678 0.89048462 0.89855076 0.89573087\n",
            " 0.8833366  0.90104267 0.90858415 0.88681227 0.85599057 0.89848511\n",
            " 0.88720572 0.85231822 0.85133455 0.76896842 0.7846416  0.79919998\n",
            " 0.7902813  0.80234768 0.8004459  0.80595447 0.80352812 0.78982228\n",
            " 0.80241324 0.78470716 0.7985442  0.77198508 0.77205064 0.76746018\n",
            " 0.76968985 0.75972193 0.75670536 0.75900059 0.74529476 0.74319629\n",
            " 0.73611383 0.7258181  0.66279759 0.51039414 0.5104597  0.53098567\n",
            " 0.37687716 0.33398913 0.38172996 0.44284873 0.45294776 0.51341071\n",
            " 0.49117973 0.49334384 0.45366911 0.46862086 0.47380154 0.4844908\n",
            " 0.48639258 0.4877697  0.49236017 0.44501275 0.45124267 0.46048924\n",
            " 0.46455505 0.50449211 0.51714863 0.54442917 0.62541809 0.63341858\n",
            " 0.66135483 0.64194373 0.64266508 0.62089319 0.58587448 0.61846675\n",
            " 0.61879464 0.61977831 0.60194111 0.59938355 0.58935015 0.5864647\n",
            " 0.56423372 0.55256079 0.50573811 0.56246314 0.55623323 0.55085578\n",
            " 0.56259427 0.56895531 0.58259558 0.58515314 0.59013706 0.59525218\n",
            " 0.59925242 0.59118629 0.5909896  0.60108856 0.59518654 0.6079087\n",
            " 0.60810546 0.59925242 0.59276018 0.62102431 0.63754129 0.64006025\n",
            " 0.6431123  0.64659679 0.65038598 0.65435749 0.65840948 0.66246283\n",
            " 0.66646045 0.67036194 0.67414117 0.67778105 0.68127126 0.68460584\n",
            " 0.6877827  0.69080025 0.69365925 0.69636124 0.69890845 0.70130354\n",
            " 0.70354956 0.70565021 0.70760983 0.70943236 0.71112281 0.71268559\n",
            " 0.71412635 0.71545005 0.71666199 0.71776801 0.71877319 0.71968311\n",
            " 0.72050351 0.72123951 0.72189659 0.72247958 0.72299421 0.72344488\n",
            " 0.72383648 0.72417378 0.7244609  0.72470254 0.72490215 0.72506398\n",
            " 0.72519135 0.72528768 0.72535628 0.72540033 0.72542214 0.72542483\n",
            " 0.7254104  0.72538143 0.72533995 0.72528756 0.72522616 0.72515744\n",
            " 0.72508281 0.72500336 0.72492051 0.7248351  0.72474831 0.72466081\n",
            " 0.72457331 0.72448629 0.72440082 0.72431666 0.72423494 0.72415555\n",
            " 0.72407871 0.72400498 0.72393411 0.7238667  0.72380233 0.72374159\n",
            " 0.72368407 0.72362995 0.72357911 0.72353154 0.72348744 0.72344625\n",
            " 0.7234081  0.72337294 0.72334063 0.72331101 0.72328401 0.72325939\n",
            " 0.72323704 0.72321689]\n",
            "28 day output [[0.72319895]]\n",
            "29 day input [0.89586199 0.89330451 0.87061443 0.88484492 0.87323756 0.87723788\n",
            " 0.88110693 0.87979536 0.87927079 0.88294314 0.89546854 0.8923864\n",
            " 0.89887865 0.90320678 0.89048462 0.89855076 0.89573087 0.8833366\n",
            " 0.90104267 0.90858415 0.88681227 0.85599057 0.89848511 0.88720572\n",
            " 0.85231822 0.85133455 0.76896842 0.7846416  0.79919998 0.7902813\n",
            " 0.80234768 0.8004459  0.80595447 0.80352812 0.78982228 0.80241324\n",
            " 0.78470716 0.7985442  0.77198508 0.77205064 0.76746018 0.76968985\n",
            " 0.75972193 0.75670536 0.75900059 0.74529476 0.74319629 0.73611383\n",
            " 0.7258181  0.66279759 0.51039414 0.5104597  0.53098567 0.37687716\n",
            " 0.33398913 0.38172996 0.44284873 0.45294776 0.51341071 0.49117973\n",
            " 0.49334384 0.45366911 0.46862086 0.47380154 0.4844908  0.48639258\n",
            " 0.4877697  0.49236017 0.44501275 0.45124267 0.46048924 0.46455505\n",
            " 0.50449211 0.51714863 0.54442917 0.62541809 0.63341858 0.66135483\n",
            " 0.64194373 0.64266508 0.62089319 0.58587448 0.61846675 0.61879464\n",
            " 0.61977831 0.60194111 0.59938355 0.58935015 0.5864647  0.56423372\n",
            " 0.55256079 0.50573811 0.56246314 0.55623323 0.55085578 0.56259427\n",
            " 0.56895531 0.58259558 0.58515314 0.59013706 0.59525218 0.59925242\n",
            " 0.59118629 0.5909896  0.60108856 0.59518654 0.6079087  0.60810546\n",
            " 0.59925242 0.59276018 0.62102431 0.63754129 0.64006025 0.6431123\n",
            " 0.64659679 0.65038598 0.65435749 0.65840948 0.66246283 0.66646045\n",
            " 0.67036194 0.67414117 0.67778105 0.68127126 0.68460584 0.6877827\n",
            " 0.69080025 0.69365925 0.69636124 0.69890845 0.70130354 0.70354956\n",
            " 0.70565021 0.70760983 0.70943236 0.71112281 0.71268559 0.71412635\n",
            " 0.71545005 0.71666199 0.71776801 0.71877319 0.71968311 0.72050351\n",
            " 0.72123951 0.72189659 0.72247958 0.72299421 0.72344488 0.72383648\n",
            " 0.72417378 0.7244609  0.72470254 0.72490215 0.72506398 0.72519135\n",
            " 0.72528768 0.72535628 0.72540033 0.72542214 0.72542483 0.7254104\n",
            " 0.72538143 0.72533995 0.72528756 0.72522616 0.72515744 0.72508281\n",
            " 0.72500336 0.72492051 0.7248351  0.72474831 0.72466081 0.72457331\n",
            " 0.72448629 0.72440082 0.72431666 0.72423494 0.72415555 0.72407871\n",
            " 0.72400498 0.72393411 0.7238667  0.72380233 0.72374159 0.72368407\n",
            " 0.72362995 0.72357911 0.72353154 0.72348744 0.72344625 0.7234081\n",
            " 0.72337294 0.72334063 0.72331101 0.72328401 0.72325939 0.72323704\n",
            " 0.72321689 0.72319895]\n",
            "29 day output [[0.7231828]]\n",
            "[[0.7247483134269714], [0.7246608138084412], [0.7245733141899109], [0.7244862914085388], [0.7244008183479309], [0.7243166565895081], [0.724234938621521], [0.7241555452346802], [0.7240787148475647], [0.7240049839019775], [0.7239341139793396], [0.7238667011260986], [0.7238023281097412], [0.7237415909767151], [0.7236840724945068], [0.7236299514770508], [0.7235791087150574], [0.7235315442085266], [0.7234874367713928], [0.723446249961853], [0.7234081029891968], [0.7233729362487793], [0.723340630531311], [0.7233110070228577], [0.7232840061187744], [0.7232593894004822], [0.7232370376586914], [0.7232168912887573], [0.7231989502906799], [0.7231827974319458]]\n"
          ]
        }
      ]
    },
    {
      "cell_type": "code",
      "source": [
        "day_new=np.arange(1,len(x_input[0])+1)\n",
        "day_pred=np.arange(len(x_input[0])+1,len(x_input[0])+31)"
      ],
      "metadata": {
        "id": "h1qVeyKVql7Z"
      },
      "execution_count": 70,
      "outputs": []
    },
    {
      "cell_type": "code",
      "source": [
        "print(len(x_input[0]))\n",
        "print(day_new.shape)\n",
        "print(day_pred.shape)"
      ],
      "metadata": {
        "colab": {
          "base_uri": "https://localhost:8080/"
        },
        "id": "hmGaL6eihFCL",
        "outputId": "7f6a6c7e-995f-4b54-9108-9446550ee0ea"
      },
      "execution_count": 72,
      "outputs": [
        {
          "output_type": "stream",
          "name": "stdout",
          "text": [
            "200\n",
            "(200,)\n",
            "(30,)\n"
          ]
        }
      ]
    },
    {
      "cell_type": "code",
      "source": [
        "len(df1)"
      ],
      "metadata": {
        "colab": {
          "base_uri": "https://localhost:8080/"
        },
        "id": "GgfhdjmRrfru",
        "outputId": "398420e7-7576-4551-f986-ef78c69883e4"
      },
      "execution_count": 47,
      "outputs": [
        {
          "output_type": "execute_result",
          "data": {
            "text/plain": [
              "826"
            ]
          },
          "metadata": {},
          "execution_count": 47
        }
      ]
    },
    {
      "cell_type": "code",
      "source": [
        "\n",
        "plt.plot(day_new,scaler.inverse_transform(df1[len(df1)-len(x_input[0]):]))\n",
        "plt.plot(day_pred,scaler.inverse_transform(lst_output))\n"
      ],
      "metadata": {
        "colab": {
          "base_uri": "https://localhost:8080/",
          "height": 447
        },
        "id": "J97xcm-gsoyx",
        "outputId": "170945bd-a191-444f-baed-77421b19aba6"
      },
      "execution_count": 74,
      "outputs": [
        {
          "output_type": "execute_result",
          "data": {
            "text/plain": [
              "[<matplotlib.lines.Line2D at 0x7f6c292e7a30>]"
            ]
          },
          "metadata": {},
          "execution_count": 74
        },
        {
          "output_type": "display_data",
          "data": {
            "text/plain": [
              "<Figure size 640x480 with 1 Axes>"
            ],
            "image/png": "[encoded data removed]"
          },
          "metadata": {}
        }
      ]
    },
    {
      "cell_type": "code",
      "source": [],
      "metadata": {
        "id": "ewXLktYEdqYw"
      },
      "execution_count": null,
      "outputs": []
    }
  ]
}